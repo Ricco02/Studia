{
 "cells": [
  {
   "cell_type": "markdown",
   "metadata": {},
   "source": [
    "# NumPy - podstawy\n",
    "\n",
    "Moduł NumPy stanowi element większego pakietu o nazwie SciPy, zawierającego moduły NumPy, SciPy, matplotlib, IPython oraz SymPy. Pełen pakiet SciPy ma pełną funkcjonalność Octave, a nawet go przewyższa. Dystrybucja Anaconda, której używamy na zajęciach, jest przystosowana właśnie do pracy z pakietem SciPy (w szczególności nie ma potrzeby doinstalowywania żadnych modułów)."
   ]
  },
  {
   "cell_type": "markdown",
   "metadata": {},
   "source": [
    "Sprawdźmy, czy tak jest faktycznie."
   ]
  },
  {
   "cell_type": "code",
   "execution_count": 1,
   "metadata": {},
   "outputs": [],
   "source": [
    "import numpy"
   ]
  },
  {
   "cell_type": "markdown",
   "metadata": {},
   "source": [
    "Brak modułu zostałby zasygnalizowany komunikatem błedu\n",
    "\n",
    " `ImportError: No module named 'numpy'`"
   ]
  },
  {
   "cell_type": "markdown",
   "metadata": {},
   "source": [
    "## Macierz ndarray - tworzenie ,,ręczne''\n",
    "\n",
    "Kluczowym obiektem w module NumPy jest `ndarray`, czyli $n$-wymiarowa macierz elementów tego samego typu. Tworzymy go za pomocą funkcji `array` z modułu `numpy`. Pełen przykładowy konstruktor obiektu `ndarray` wygląda następująco:\n",
    "\n",
    "```python\n",
    "numpy.array(obiekt, dtype = None, copy = True, order = None, subok = False, ndmin = 0)\n",
    "```\n",
    "gdzie poszczególne parametry to:\n",
    "- `obiekt` - obiekt, który chcemy przetworzyć na macierz, np. lista znaków `[1,2,3,4]` lub innych elementów\n",
    "- `dtype` - opcjonalnie, wymuszony końcowy typ elementów macierzy\n",
    "- `copy` - opcjonalnie (domyślna wartość `True`), wymusza kopiowanie obiektu przetwarzanego na macierz\n",
    "- `order` - opcjonalnie, kolejność indeksacji w pamięci: `C` - najpierw wiersze (jak w C/C++), `F` - najpierw kolumny (jak w Fortranie), `A` - (domyślnie) jakkolwiek\n",
    "- `subok` - opcjonalnie, domyślne ustawienie `False`, ustawienie `True` dopuszcza użycie podklas\n",
    "- `ndmin` - opcjonalnie, określa minimalny wymiar otrzymanej macierzy"
   ]
  },
  {
   "cell_type": "markdown",
   "metadata": {},
   "source": [
    "Przykładowo:"
   ]
  },
  {
   "cell_type": "code",
   "execution_count": 2,
   "metadata": {},
   "outputs": [
    {
     "name": "stdout",
     "output_type": "stream",
     "text": [
      "[1 2 3 4 5]\n",
      "[1.+0.j 2.+0.j 3.+0.j 4.+0.j 5.+0.j]\n",
      "[[1 2 3 4 5]]\n"
     ]
    }
   ],
   "source": [
    "import numpy as np\n",
    "A = np.array([1,2,3,4,5])\n",
    "B = np.array([1,2,3,4,5],dtype=complex)\n",
    "C = np.array([1,2,3,4,5],ndmin=2)\n",
    "print(A)\n",
    "print(B)\n",
    "print(C)"
   ]
  },
  {
   "cell_type": "markdown",
   "metadata": {},
   "source": [
    "Macierz dwuwymiarową tworzymy następująco:"
   ]
  },
  {
   "cell_type": "code",
   "execution_count": 3,
   "metadata": {},
   "outputs": [
    {
     "name": "stdout",
     "output_type": "stream",
     "text": [
      "[[1 2]\n",
      " [3 4]\n",
      " [5 6]]\n"
     ]
    }
   ],
   "source": [
    "D=np.array([[1,2],[3,4],[5,6]])\n",
    "print(D)"
   ]
  },
  {
   "cell_type": "markdown",
   "metadata": {},
   "source": [
    "## \"Automatyczne\" tworzenie macierzy\n",
    "\n",
    "- `numpy.arange(n)` tworzy wiersz liczb od 0 do $n$\n",
    "- `numpy.arange(start,end,step)` tworzy wiersz liczb od `start` (włącznie) do `end` (nie włącznie) oddalonych o `step`\n",
    "- `numpy.linspace(start,end,n)` tworzy wiersz $n$ liczb rozłożonych równomiernie od `start` do `end` **włącznie**\n",
    "- `numpy.ones((n,m))` - macierz wymiaru $n\\times m$ wypełniona jedynkami\n",
    "- `numpy.zeros((n,m))` - macierz wymiaru $n\\times m$ wypełniona zerami\n",
    "- `numpy.eye(n)` - jednostkowa macierz kwadratowa wymiaru $n\\times n$\n",
    "- `numpy.diag(numpy.array([1, 2, 3, 4]))` - macierz, która na przekątnej ma elementy 1,2,3,4, pozostałe miejsca to zera\n",
    "- `numpy.random.rand(n)` - wiersz $n$ liczb losowych z przedziału $[0,1]$\n",
    "- `numpy.random.randn(n)` - wiersz $n$ liczb losowych o rozkładzie Gaussa"
   ]
  },
  {
   "cell_type": "markdown",
   "metadata": {},
   "source": [
    "## Nawigacja i podstawowe operacje na macierzach\n",
    "\n",
    "Załóżmy, że mamy macierze"
   ]
  },
  {
   "cell_type": "code",
   "execution_count": 4,
   "metadata": {},
   "outputs": [],
   "source": [
    "A=np.array([[1,2],[3,4]])\n",
    "B=np.array([[1,1],[0,-1]])\n",
    "C=np.array([1,2,3,4])\n",
    "D=np.array([[1,2],[2,1],[3,2]])"
   ]
  },
  {
   "cell_type": "markdown",
   "metadata": {},
   "source": [
    "- `A.ndim` zwraca liczbę wymiarów macierzy\n",
    "- `len(A)` zwraca liczbę elementów w macierzy jednowymiarowej lub liczbę elementów w pierwszym wymiarze macierzy dwuwymiarowej (tzn. liczbę wierszy)\n",
    "- `A.shape` zwraca wymiar macierzy\n",
    "- `C.reshape(n,m)` utworzy z wektora C macierz wymiaru $n\\times m$\n",
    "- `A.flatten()` zwraca wektor utworzony z elementów macierzy A, w kolejności elementów w wierszach (domyślnie, `order='C'`) lub przy `order='F'` - w kolumnach"
   ]
  },
  {
   "cell_type": "code",
   "execution_count": 5,
   "metadata": {},
   "outputs": [
    {
     "name": "stdout",
     "output_type": "stream",
     "text": [
      "2\n",
      "2\n"
     ]
    }
   ],
   "source": [
    "print(A.ndim)\n",
    "print(D.ndim)"
   ]
  },
  {
   "cell_type": "code",
   "execution_count": 6,
   "metadata": {},
   "outputs": [
    {
     "name": "stdout",
     "output_type": "stream",
     "text": [
      "4\n",
      "3\n",
      "(2, 2)\n",
      "[[1 2]\n",
      " [3 4]]\n",
      "[[1 2]\n",
      " [2 1]\n",
      " [3 2]]\n",
      "[1 2 2 1 3 2]\n",
      "[1 2 3 2 1 2]\n"
     ]
    }
   ],
   "source": [
    "print(len(C))\n",
    "print(len(D))\n",
    "print(A.shape)\n",
    "print(C.reshape(2,2))\n",
    "print(D)\n",
    "print(D.flatten())\n",
    "print(D.flatten(order='F'))"
   ]
  },
  {
   "cell_type": "markdown",
   "metadata": {},
   "source": [
    "- `C[n]` zwraca $n+1$ element wiersza (pamiętamy: numeracja zaczyna się od 0)\n",
    "- `A[n,m]` zwraca element w $n+1$ wierszu i $m+1$ kolumnie\n",
    "- `A[n]` zwraca $n+1$ wiersz\n",
    "- `C[start:end:n]` zwraca co $n$-ty element wiersza C, począwszy od miejsca `start` do miejsca `end` nie włącznie\n",
    "- `C[::-1]` szybkie odwrócenie kolejności elementów w wierszu C\n",
    "- dla macierzy wielowymiarowych działa połączenie powyższych operacji, np. `A[0:2,0]` zwróci wektor `[1,3]` (tzn. elementy w pierwszej kolumnie, w wierszach 0 i 1)"
   ]
  },
  {
   "cell_type": "code",
   "execution_count": 7,
   "metadata": {},
   "outputs": [
    {
     "name": "stdout",
     "output_type": "stream",
     "text": [
      "1\n",
      "[2 1]\n",
      "[2 1 2]\n"
     ]
    }
   ],
   "source": [
    "print(A[0,0])\n",
    "print(D[1])    #drugi wiersz\n",
    "print(D[:,1])  #druga kolumna"
   ]
  },
  {
   "cell_type": "markdown",
   "metadata": {},
   "source": [
    "- dodawanie macierzy: `A+B`\n",
    "- mnożenie macierzy miejsce w miejsce: `A*B`\n",
    "- mnożenie macierzy: `A.dot(B)`\n",
    "- `A+2` - dodaje do każdego elementu macierzy liczbę 2\n",
    "- `A.T` lub `numpy.transpose(A)` - transpozycja\n",
    "- `numpy.sum(A)` lub `A.sum()` zwraca sumę wszystkich elementów macierzy\n",
    "- `A.sum(axis=0)` zwraca macierz złożoną z sum po pierwszym wymiarze macierzy $A$ (dla drugiego wymiaru `axis=1`)\n",
    "- `A.min()` - najmniejszy element w macierzy (dla największego - `max`)\n",
    "- `A.argmin()` - indeks najmniejszego elementu w macierzy\n",
    "- `numpy.linalg.eig(A)` oblicza wartości własne oraz (prawe) wektory własne macierzy"
   ]
  },
  {
   "cell_type": "markdown",
   "metadata": {},
   "source": [
    "## Zadanie 1.\n",
    "\n",
    " Napisać skrypt tworzący macierz o wymiarach $n\\times n$, która poniżej głównej przekątnej ma zera, na głównej przekątnej jedynki, na drugiej przekątnej dwójki, na trzeciej trójki itp."
   ]
  },
  {
   "cell_type": "code",
   "execution_count": 8,
   "metadata": {},
   "outputs": [
    {
     "name": "stdout",
     "output_type": "stream",
     "text": [
      "[[1. 2. 3. 4.]\n",
      " [0. 1. 2. 3.]\n",
      " [0. 0. 1. 2.]\n",
      " [0. 0. 0. 1.]]\n"
     ]
    }
   ],
   "source": [
    "def creator(n):\n",
    "    zad1=np.zeros([n,n])\n",
    "    for i in range(n+1):\n",
    "        zad1=zad1+np.diag([i for _ in range(n)],i-1)[:n,:n]\n",
    "    return zad1\n",
    "print(creator(4))"
   ]
  },
  {
   "cell_type": "markdown",
   "metadata": {},
   "source": [
    "## Zadanie 2.\n",
    "\n",
    "Utworzyć macierz $10\\times 10$ wypełnioną kolejno liczbami od 0 do 99. Za pomocą odpowiednich operacji wyciąć z niej następujące macierze:\n",
    "- wektor elementów od 20 do 29\n",
    "- macierz elementów od 30 do 59\n",
    "- macierz składającą się z wszystkich liczb parzystych od 20 do 89"
   ]
  },
  {
   "cell_type": "code",
   "execution_count": 9,
   "metadata": {},
   "outputs": [
    {
     "name": "stdout",
     "output_type": "stream",
     "text": [
      "[[ 0  1  2  3  4  5  6  7  8  9]\n",
      " [10 11 12 13 14 15 16 17 18 19]\n",
      " [20 21 22 23 24 25 26 27 28 29]\n",
      " [30 31 32 33 34 35 36 37 38 39]\n",
      " [40 41 42 43 44 45 46 47 48 49]\n",
      " [50 51 52 53 54 55 56 57 58 59]\n",
      " [60 61 62 63 64 65 66 67 68 69]\n",
      " [70 71 72 73 74 75 76 77 78 79]\n",
      " [80 81 82 83 84 85 86 87 88 89]\n",
      " [90 91 92 93 94 95 96 97 98 99]]\n"
     ]
    }
   ],
   "source": [
    "zad2=np.arange(0,100,1).reshape([10,10])\n",
    "print(zad2)"
   ]
  },
  {
   "cell_type": "code",
   "execution_count": 10,
   "metadata": {},
   "outputs": [
    {
     "data": {
      "text/plain": [
       "array([20, 21, 22, 23, 24, 25, 26, 27, 28, 29])"
      ]
     },
     "execution_count": 10,
     "metadata": {},
     "output_type": "execute_result"
    }
   ],
   "source": [
    "zad2[2,:]"
   ]
  },
  {
   "cell_type": "code",
   "execution_count": 11,
   "metadata": {},
   "outputs": [
    {
     "data": {
      "text/plain": [
       "array([[30, 31, 32, 33, 34, 35, 36, 37, 38, 39],\n",
       "       [40, 41, 42, 43, 44, 45, 46, 47, 48, 49],\n",
       "       [50, 51, 52, 53, 54, 55, 56, 57, 58, 59]])"
      ]
     },
     "execution_count": 11,
     "metadata": {},
     "output_type": "execute_result"
    }
   ],
   "source": [
    "zad2[3:6,:]"
   ]
  },
  {
   "cell_type": "code",
   "execution_count": 12,
   "metadata": {},
   "outputs": [
    {
     "data": {
      "text/plain": [
       "array([[20, 22, 24, 26, 28],\n",
       "       [30, 32, 34, 36, 38],\n",
       "       [40, 42, 44, 46, 48],\n",
       "       [50, 52, 54, 56, 58],\n",
       "       [60, 62, 64, 66, 68],\n",
       "       [70, 72, 74, 76, 78],\n",
       "       [80, 82, 84, 86, 88]])"
      ]
     },
     "execution_count": 12,
     "metadata": {},
     "output_type": "execute_result"
    }
   ],
   "source": [
    "zad2[2:9,[x for x in range(0,10,2)]]"
   ]
  },
  {
   "cell_type": "markdown",
   "metadata": {},
   "source": [
    "## Zadanie 3.\n",
    "\n",
    "Za pomocą operacji na wierszach i kolumnach wygenerować następującą macierz"
   ]
  },
  {
   "cell_type": "markdown",
   "metadata": {},
   "source": [
    " $$\\left[\\begin{matrix}\n",
    "          1&2&3&4&5&6&7&8&9&0\\\\\n",
    "          2&2&3&4&5&6&7&8&9&0\\\\\n",
    "          3&3&3&4&5&6&7&8&9&0\\\\\n",
    "          4&4&4&4&5&6&7&8&9&0\\\\\n",
    "          5&5&5&5&5&6&7&8&9&0\\\\\n",
    "          6&6&6&6&6&6&7&8&9&0\\\\\n",
    "          7&7&7&7&7&7&7&8&9&0\\\\\n",
    "          8&8&8&8&8&8&8&8&9&0\\\\\n",
    "          9&9&9&9&9&9&9&9&9&0\\\\\n",
    "          0&0&0&0&0&0&0&0&0&0\n",
    "         \\end{matrix}\\right]$$"
   ]
  },
  {
   "cell_type": "code",
   "execution_count": 13,
   "metadata": {},
   "outputs": [
    {
     "data": {
      "text/plain": [
       "array([[1., 2., 3., 4., 5., 6., 7., 8., 9., 0.],\n",
       "       [2., 2., 3., 4., 5., 6., 7., 8., 9., 0.],\n",
       "       [3., 3., 3., 4., 5., 6., 7., 8., 9., 0.],\n",
       "       [4., 4., 4., 4., 5., 6., 7., 8., 9., 0.],\n",
       "       [5., 5., 5., 5., 5., 6., 7., 8., 9., 0.],\n",
       "       [6., 6., 6., 6., 6., 6., 7., 8., 9., 0.],\n",
       "       [7., 7., 7., 7., 7., 7., 7., 8., 9., 0.],\n",
       "       [8., 8., 8., 8., 8., 8., 8., 8., 9., 0.],\n",
       "       [9., 9., 9., 9., 9., 9., 9., 9., 9., 0.],\n",
       "       [0., 0., 0., 0., 0., 0., 0., 0., 0., 0.]])"
      ]
     },
     "execution_count": 13,
     "metadata": {},
     "output_type": "execute_result"
    }
   ],
   "source": [
    "zad3=np.zeros([10,10])\n",
    "for i in range(0,9):\n",
    "    zad3[:,i]=i+1\n",
    "zad3t=zad3.T\n",
    "for i in range(0,10):\n",
    "    for j in range(0,10):\n",
    "        if i<j:\n",
    "            zad3[j,i]=zad3t[j,i]\n",
    "zad3"
   ]
  },
  {
   "cell_type": "code",
   "execution_count": null,
   "metadata": {},
   "outputs": [],
   "source": []
  }
 ],
 "metadata": {
  "kernelspec": {
   "display_name": "Python 3",
   "language": "python",
   "name": "python3"
  },
  "language_info": {
   "codemirror_mode": {
    "name": "ipython",
    "version": 3
   },
   "file_extension": ".py",
   "mimetype": "text/x-python",
   "name": "python",
   "nbconvert_exporter": "python",
   "pygments_lexer": "ipython3",
   "version": "3.10.11"
  }
 },
 "nbformat": 4,
 "nbformat_minor": 4
}
