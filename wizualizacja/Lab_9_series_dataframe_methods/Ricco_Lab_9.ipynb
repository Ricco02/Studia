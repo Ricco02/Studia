{
 "cells": [
  {
   "cell_type": "markdown",
   "metadata": {},
   "source": [
    "# Pandas - podstawowe metody na strukturach danych\n",
    "\n",
    "## Metody ogólne\n",
    "\n",
    "- `pd.isna()` - zwraca strukturę z danymi `True/False`; `True`, jeżeli element to brak danych `NaN`\n",
    "- `pd.notna()` - zwraca strukturę z danymi `True/False`; `False`, jeżeli element to brak danych `NaN`\n",
    "- `pd.to_numeric(lista elementów)` - przekształca elementy listy na typ numeryczny (użyteczne, gdy z jakichś powodów w strukturze danych liczby są typu `string`)\n",
    "- `pd.date_range(start=początek, end=koniec, periods=n, freq=częstotliwość)` - automatyczne tworzenie listy elementów `DataTime` od zadanej daty `początek` do daty `koniec` albo przez podział na podaną liczbę `n` równych okresów, albo co określoną częstotliwość wystąpień `częstotliwość`; `częstotliwość` musi być stringiem formatu `'nX'`, gdzie `X` to tzw. *frequency alias*: `H` - godziny, `D` - dni, `B` - dni robocze, ` M` - miesiące itp."
   ]
  },
  {
   "cell_type": "code",
   "execution_count": 1,
   "metadata": {},
   "outputs": [
    {
     "name": "stdout",
     "output_type": "stream",
     "text": [
      "0     0.0\n",
      "1     1.0\n",
      "2     2.0\n",
      "3     3.0\n",
      "4     4.0\n",
      "5     5.0\n",
      "6     0.0\n",
      "7     6.0\n",
      "8     7.0\n",
      "9     0.0\n",
      "10    9.0\n",
      "dtype: float64\n"
     ]
    }
   ],
   "source": [
    "import numpy as np\n",
    "import pandas as pd\n",
    "\n",
    "lista = [np.nan,1,'2',3,4,'5',np.nan,6,7,np.nan,9]\n",
    "s1 = pd.Series(pd.to_numeric(lista))\n",
    "s1_nan = pd.isna(s1)\n",
    "\n",
    "s1[s1_nan == True]=0\n",
    "\n",
    "print(s1)"
   ]
  },
  {
   "cell_type": "code",
   "execution_count": 2,
   "metadata": {},
   "outputs": [
    {
     "name": "stdout",
     "output_type": "stream",
     "text": [
      "            klienci sklep 1  klienci sklep 2\n",
      "2021-03-12               10               47\n",
      "2021-03-13               24               13\n",
      "2021-03-14               16               27\n",
      "2021-03-15               22               35\n",
      "2021-03-16               18               11\n",
      "2021-03-17               24               16\n",
      "2021-03-18               17               24\n",
      "2021-03-19               11               41\n",
      "2021-03-20                7               41\n",
      "2021-03-21               18               31\n"
     ]
    }
   ],
   "source": [
    "l2=pd.date_range(start='3/12/2021',end='3/21/2021',freq='1D')\n",
    "\n",
    "s2=pd.Series(np.random.randint(5,25,10),index=l2)\n",
    "s3=pd.Series(np.random.randint(10,50,10),index=l2)\n",
    "\n",
    "df1=pd.DataFrame({'klienci sklep 1':s2,'klienci sklep 2':s3})\n",
    "print(df1)"
   ]
  },
  {
   "cell_type": "markdown",
   "metadata": {},
   "source": [
    "## Series - podstawowe metody\n",
    "\n",
    "### Konwersja danych, usuwanie, reindeksacja itp.\n",
    "\n",
    "- `Series.copy()` - kopiuje szereg do nowego szeregu,\n",
    "- `Series.to_numpy()` - tworzy macierz `ndarray` z wyrazów szeregu,\n",
    "- `Series.to_list()` - tworzy listę z wyrazów szeregu,\n",
    "- `Series.append(szeregi)` - dołącza do szeregu nowe `szeregi`,\n",
    "- `Series.replace(stary, nowy)` - zmienia w szeregu wartości `stary` na `nowy`,\n",
    "- `Series.drop(indeks)` - usuwa element o zadanym indeksie,\n",
    "- `Series.drop_duplicates()` - usuwa z szeregu podwójne wartości,\n",
    "- `Series.isin(lista_wartości)` - zwraca `True` tam, gdzie w szeregu znajduje się wartość z listy,\n",
    "- `Series.reindex([lista indeksów])` - zmiana indeksacji szeregu; wyrazy o indeksach nie znajdujących się na nowej liście zostaną usunięte,\n",
    "- `Series.rename({słownik})` - zmienia nazwy starych indeksów (klucze słownika) na nowe (wartości słownika),\n",
    "- `Series.truncate(before=indeks1, after=indeks2, copy=True/False)` - obcina wszystkie elementy szeregu przed `indeks1` i po `indeks2`,\n",
    "- `Series.where(warunek, other=nowa)` - gdy `warunek` **nie jest** spełniony, zamieni wartość w szeregu na wartość `nowa`,\n",
    "- `Series.mask(warunek, other=nowa)`- gdy `warunek` **jest** spełniony, zamieni wartość w szeregu na wartość `nowa`,\n",
    "- `Series.add_prefix(prefiks)` - dodaje `prefiks` do indeksów,\n",
    "- `Series.add_suffix(sufiks)` - dodaje `sufiks` do indeksów."
   ]
  },
  {
   "cell_type": "code",
   "execution_count": 3,
   "metadata": {},
   "outputs": [
    {
     "name": "stdout",
     "output_type": "stream",
     "text": [
      "0     1\n",
      "1     2\n",
      "2     2\n",
      "3     2\n",
      "4     2\n",
      "5     2\n",
      "6     2\n",
      "7     2\n",
      "8     3\n",
      "9     4\n",
      "0     5\n",
      "1     6\n",
      "2     6\n",
      "3     6\n",
      "4     6\n",
      "5     6\n",
      "6     7\n",
      "7     8\n",
      "8     9\n",
      "9    10\n",
      "dtype: int64\n",
      "0     1\n",
      "1     2\n",
      "2     2\n",
      "3     2\n",
      "4     2\n",
      "5     2\n",
      "6     2\n",
      "7     2\n",
      "8     3\n",
      "9     4\n",
      "0     5\n",
      "1     1\n",
      "2     1\n",
      "3     1\n",
      "4     1\n",
      "5     1\n",
      "6     7\n",
      "7     8\n",
      "8     9\n",
      "9    10\n",
      "dtype: int64\n",
      "0     1\n",
      "1     2\n",
      "8     3\n",
      "9     4\n",
      "0     5\n",
      "6     7\n",
      "7     8\n",
      "8     9\n",
      "9    10\n",
      "dtype: int64\n",
      "0     0\n",
      "1     2\n",
      "8     0\n",
      "9     4\n",
      "0     0\n",
      "6     0\n",
      "7     8\n",
      "8     0\n",
      "9    10\n",
      "dtype: int64\n"
     ]
    },
    {
     "name": "stderr",
     "output_type": "stream",
     "text": [
      "C:\\Users\\Minus\\AppData\\Local\\Temp\\ipykernel_5332\\646525362.py:4: FutureWarning: The series.append method is deprecated and will be removed from pandas in a future version. Use pandas.concat instead.\n",
      "  s3=s1.append(s2)\n"
     ]
    }
   ],
   "source": [
    "s1=pd.Series([1,2,2,2,2,2,2,2,3,4])\n",
    "s2=pd.Series([5,6,6,6,6,6,7,8,9,10])\n",
    "\n",
    "s3=s1.append(s2)\n",
    "print(s3)\n",
    "\n",
    "s3=s3.replace(6,1)\n",
    "print(s3)\n",
    "\n",
    "s3=s3.drop_duplicates()\n",
    "print(s3)\n",
    "\n",
    "s3=s3.where(s3%2==0,0)\n",
    "print(s3)"
   ]
  },
  {
   "cell_type": "markdown",
   "metadata": {},
   "source": [
    "### Operacje na elementach\n",
    "\n",
    "- `Series.get(indeks)` - zwraca element o zadanym indeksie,\n",
    "- `Series.pop(indeks)` - zwraca element o zadanym indeksie i usuwa go z szeregu,\n",
    "- `Series.add(obiekt)` - dodaje `obiekt` do każdego elementu szeregu, miejsce w miejsce,\n",
    "- `Series.sub(obiekt)` - odejmuje `obiekt` od każdego elementu szeregu, miejsce w miejsce,\n",
    "- `Series.mul(obiekt)` - mnoży każdy element przez `obiekt`, miejsce w miejsce,\n",
    "- `Series.div(obiekt)` - dzieli każdy element przez `obiekt`, miejsce w miejsce,\n",
    "- `Series.abs()` - zwraca szereg modułów wartości wyjściowego szeregu,\n",
    "- `Series.round(n)` - zaokrągla wartości szeregu do zadanej liczby miejsc po przecinku,\n",
    "- `Series.product()` - zwraca iloczyn wyrazów szeregu,\n",
    "- `Series.sum()` - zwraca sumę wyrazów szeregu."
   ]
  },
  {
   "cell_type": "code",
   "execution_count": 4,
   "metadata": {},
   "outputs": [
    {
     "name": "stdout",
     "output_type": "stream",
     "text": [
      "0    2\n",
      "1    3\n",
      "2    4\n",
      "3    5\n",
      "4    6\n",
      "dtype: int64\n",
      "20\n"
     ]
    }
   ],
   "source": [
    "s=pd.Series([1,2,3,4,5])\n",
    "s=s.add(1)\n",
    "print(s)\n",
    "print(s.sum())"
   ]
  },
  {
   "cell_type": "markdown",
   "metadata": {},
   "source": [
    "### Obsługa brakujących danych `NaN`\n",
    "\n",
    "- `Series.isna()` - zwraca szereg z danymi `True/False`; `True`, jeżeli element to brak danych `NaN`,\n",
    "- `Series.notna()`- zwraca szereg z danymi `True/False`; `False`, jeżeli element to brak danych `NaN`,\n",
    "- `Series.dropna()` - usuwa z szeregu braki danych `NaN`,\n",
    "- `Series.fillna(wartość lub method=metoda)` - uzupełnianie `NaN` o zadaną wartość lub poprzez wybraną metodę: `'ffill'` koliuje poprzednią wartość,`'bfill'` kopiuje następną wartość,\n",
    "- `Series.interpolate(method=metoda)` - uzupełnia `NaN` o wartość powstałą przez interpolację pozostałych wartości zadaną metodą: `‘linear’` (interpolacja liniowa), `‘time’` (dla danych w formacie `DataTime`),`‘index’` (wstawia wartość indeksu), `‘polynomial’` (interpolacja wielomianowa) i wiele, wiele innych."
   ]
  },
  {
   "cell_type": "code",
   "execution_count": 5,
   "metadata": {},
   "outputs": [
    {
     "name": "stdout",
     "output_type": "stream",
     "text": [
      "0    1.0\n",
      "1    2.0\n",
      "2    3.0\n",
      "3    4.0\n",
      "4    5.0\n",
      "5    6.0\n",
      "6    7.0\n",
      "7    8.0\n",
      "8    9.0\n",
      "dtype: float64\n"
     ]
    }
   ],
   "source": [
    "s=pd.Series([1,2,np.nan,4,5,6,np.nan,8,9])\n",
    "s=s.interpolate(method='linear')\n",
    "print(s)"
   ]
  },
  {
   "cell_type": "markdown",
   "metadata": {},
   "source": [
    "### Sortowanie\n",
    "\n",
    "- `Series.argsort()` - zwraca szereg, którego wartości to miejsce wyrazu o danym indeksie w posorowanym szeregu,\n",
    "- `Series.reorder_levels(porządek)` - przestawia elementy w szeregu według nowej kolejności indeksów `porządek`,\n",
    "- `Series.sort_values()` - sortowanie po wartościach; opcjonalny argument `ascending=True/False`,\n",
    "- `Series.sort_index()` - sortowanie po indeksach; opcjonalny argument `ascending=True/False`."
   ]
  },
  {
   "cell_type": "code",
   "execution_count": 6,
   "metadata": {},
   "outputs": [
    {
     "name": "stdout",
     "output_type": "stream",
     "text": [
      "d    2\n",
      "c    4\n",
      "e    6\n",
      "a    6\n",
      "b    8\n",
      "dtype: int32\n",
      "a    6\n",
      "b    8\n",
      "c    4\n",
      "d    2\n",
      "e    6\n",
      "dtype: int32\n"
     ]
    }
   ],
   "source": [
    "s=pd.Series(np.random.randint(0,9,5),index=['b','c','e','a','d'])\n",
    "print(s.sort_values())\n",
    "print(s.sort_index())"
   ]
  },
  {
   "cell_type": "markdown",
   "metadata": {},
   "source": [
    "## DataFrame - podstawowe metody\n",
    "\n",
    "### Konwersja danych, usuwanie, reindeksacja itp.\n",
    "\n",
    "- `DataFrame.copy()` - kopiuje ramkę do nowej ramki,\n",
    "- `DataFrame.append(ramka)` - dołącza do starej ramki wiersze i kolumny ramki `ramka`,\n",
    "- `DataFrame.insert(indeks, nazwa, [lista wartości])` - wstawia na indeks o numerze `indeks` kolumnę o nazwie `nazwa` i zadanej liście wartości.\n",
    "- `DataFrame.replace(stary, nowy)` - zmienia w ramce wartości `stary` na `nowy`,\n",
    "- `DataFrame.drop(labels=[indeksy], axis=0)` - usuwa wiersze (`axis=0`) lub kolumny (`axis=1`) o zadanych indeksach,\n",
    "- `DataFrame.drop_duplicates()` - usuwa z ramki powtórzone wiersze,\n",
    "- `DataFrame.isin(lista_wartości)` - zwraca `True` tam, gdzie w ramce znajduje się wartość z listy,\n",
    "- `DataFrame.set_axis([lista indeksów],axis=0)` - nadaje zadanej osi indeksy z listy,\n",
    "- `DataFrame.rename({słownik},axis=0)` - na wybranej osi zmienia nazwy starych indeksów (klucze słownika) na nowe (wartości słownika),\n",
    "- `DataFrame.rename_axis(nazwa,axis=0)` - zmienia nazwę wybranej osi\n",
    "- `DataFrame.truncate(before=indeks1, after=indeks2, axis=0, copy=True/False)` - obcina wszystkie wiersze (`axis=0`) lub kolumny (`axis=1`) przed `indeks1` i po `indeks2`,\n",
    "- `DataFrame.where(warunek, other=nowa)` - gdy `warunek` **nie jest** spełniony, zamieni wartość słownika na wartość `nowa`,\n",
    "- `DataFrame.mask(warunek, other=nowa)`- gdy `warunek` **jest** spełniony, zamieni wartość słownika na wartość `nowa`,\n",
    "- `DataFrame.add_prefix(prefiks)` - dodaje `prefiks` do indeksów kolumn,\n",
    "- `DataFrame.add_suffix(sufiks)` - dodaje `sufiks` do indeksów kolumn,\n",
    "- `DataFrame.filter(items=None, like=None, regex=None, axis=None)` - filtrowanie indeksów wierszy (`axis=0`) lub kolumn (`axis=1`) ramki: po nazwach (`items`), wyrażeniach regularnych (`regex`) albo zawieraniu danego stringa w nazwie (`like`)."
   ]
  },
  {
   "cell_type": "code",
   "execution_count": 7,
   "metadata": {},
   "outputs": [
    {
     "name": "stdout",
     "output_type": "stream",
     "text": [
      "   1  kol 2  3\n",
      "0  6      1  8\n",
      "1  5      1  3\n",
      "2  5      5  4\n",
      "3  2      2  4\n",
      "4  6      1  1\n",
      "5  7      1  5\n",
      "6  2      4  8\n",
      "7  0      8  1\n",
      "8  4      7  7\n",
      "9  5      1  1\n",
      "   1  kol 2  3\n",
      "1  5      1  3\n",
      "2  5      5  4\n",
      "4  6      1  1\n",
      "5  7      1  5\n",
      "6  2      4  8\n",
      "7  0      8  1\n",
      "8  4      7  7\n",
      "9  5      1  1\n",
      "   1  kol 2  3\n",
      "0  5      1  3\n",
      "1  5      5  4\n",
      "2  6      1  1\n",
      "3  7      1  5\n",
      "4  2      4  8\n",
      "5  0      8  1\n",
      "6  4      7  7\n",
      "7  5      1  1\n",
      "kolumny  kol 1  kol 2  kol 3\n",
      "wiersze                     \n",
      "0            5      1      3\n",
      "1            5      5      4\n",
      "2            6      1      1\n",
      "3            7      1      5\n",
      "4            2      4      8\n",
      "5            0      8      1\n",
      "6            4      7      7\n",
      "7            5      1      1\n"
     ]
    }
   ],
   "source": [
    "s1=pd.Series(np.random.randint(0,9,10))\n",
    "s2=pd.Series(np.random.randint(0,9,10))\n",
    "s3=pd.Series(np.random.randint(0,9,10))\n",
    "\n",
    "df1=pd.DataFrame({'1':s1,'kol 2':s2,'3':s3})\n",
    "print(df1)\n",
    "\n",
    "df1=df1.drop(labels=[0,3],axis=0)\n",
    "print(df1)\n",
    "\n",
    "df1=df1.set_axis(range(8),axis=0)\n",
    "print(df1)\n",
    "\n",
    "df1=df1.rename({'1':'kol 1','3':'kol 3'},axis=1)\n",
    "df1=df1.rename_axis('kolumny',axis=1)\n",
    "df1=df1.rename_axis('wiersze')\n",
    "print(df1)"
   ]
  },
  {
   "cell_type": "markdown",
   "metadata": {},
   "source": [
    "### Operacje na elementach\n",
    "\n",
    "- `DataFrame.pop(indeks)` - zwraca kolumnę o zadanym indeksie i usuwa ją z ramki,\n",
    "- `DataFrame.add(obiekt)` - dodaje `obiekt` do każdego elementu ramki, miejsce w miejsce,\n",
    "- `DataFrame.sub(obiekt)` - odejmuje `obiekt` od każdego elementu ramki, miejsce w miejsce,\n",
    "- `DataFrame.mul(obiekt)` - mnoży każdy element przez `obiekt`, miejsce w miejsce,\n",
    "- `DataFrame.div(obiekt)` - dzieli każdy element przez `obiekt`, miejsce w miejsce,\n",
    "- `DataFrame.abs()` - zwraca ramkę modułów wartości wyjściowej ramki,\n",
    "- `DataFrame.round(n)` - zaokrągla wartości ramki do zadanej liczby miejsc po przecinku,\n",
    "- `DataFrame.product(axis=0)` - zwraca iloczyny po wierszach (`axis=0`) lub kolumnach (`axis=1`),\n",
    "- `DataFrame.sum()` - zwraca sumy po wierszach (`axis=0`) lub kolumnach (`axis=1`)."
   ]
  },
  {
   "cell_type": "code",
   "execution_count": 8,
   "metadata": {},
   "outputs": [
    {
     "name": "stdout",
     "output_type": "stream",
     "text": [
      "kolumny  kol 1  kol 2  kol 3\n",
      "wiersze                     \n",
      "0           10      2      6\n",
      "1           10     10      8\n",
      "2           12      2      2\n",
      "3           14      2     10\n",
      "4            4      8     16\n",
      "5            0     16      2\n",
      "6            8     14     14\n",
      "7           10      2      2\n",
      "wiersze\n",
      "0     120\n",
      "1     800\n",
      "2      48\n",
      "3     280\n",
      "4     512\n",
      "5       0\n",
      "6    1568\n",
      "7      40\n",
      "dtype: int32\n",
      "kolumny\n",
      "kol 1    68\n",
      "kol 2    56\n",
      "kol 3    60\n",
      "dtype: int64\n"
     ]
    }
   ],
   "source": [
    "df1=df1.mul(2)\n",
    "print(df1)\n",
    "\n",
    "print(df1.product(axis=1))\n",
    "print(df1.sum(axis=0))"
   ]
  },
  {
   "cell_type": "markdown",
   "metadata": {},
   "source": [
    "### Obsługa brakujących danych `NaN`\n",
    "\n",
    "- `DataFrame.isna()` - zwraca ramkę z danymi `True/False`; `True`, jeżeli element to brak danych `NaN`,\n",
    "- `DataFrame.notna()`- zwraca ramkę z danymi `True/False`; `False`, jeżeli element to brak danych `NaN`,\n",
    "- `DataFrame.dropna(axis=0, how='any')` - usuwa z ramki wiersze (`axis=0`) lub kolumny (`axis=1`) zawierające: co najmniej jedną wartość `NaN` (`how='any'`) albo wszystkie wartości równe `NaN` (`how='all'`),\n",
    "- `DataFrame.fillna(wartość lub method=metoda)` - uzupełnianie `NaN` o zadaną wartość lub poprzez wybraną metodę: `'ffill'` kopiuje poprzednią wartość,`'bfill'` kopiuje następną wartość,\n",
    "- `DataFrame.interpolate(method=metoda)` - uzupełnia `NaN` o wartość powstałą przez interpolację pozostałych wartości zadaną metodą: `‘linear’` (interpolacja liniowa), `‘time’` (dla danych w formacie `DataTime`),`‘index’` (wstawia wartość indeksu), `‘polynomial’` (interpolacja wielomianowa) i wiele, wiele innych."
   ]
  },
  {
   "cell_type": "code",
   "execution_count": 9,
   "metadata": {},
   "outputs": [
    {
     "name": "stdout",
     "output_type": "stream",
     "text": [
      "    k1   k2  k3\n",
      "a  1.0  5.0 NaN\n",
      "b  9.0  7.0 NaN\n",
      "c  6.0  4.0 NaN\n",
      "d  2.0  8.0 NaN\n",
      "e  NaN  3.0 NaN\n",
      "    k1   k2\n",
      "a  1.0  5.0\n",
      "b  9.0  7.0\n",
      "c  6.0  4.0\n",
      "d  2.0  8.0\n"
     ]
    }
   ],
   "source": [
    "s1=pd.Series([1,9,6,2],index=['a','b','c','d'])\n",
    "s2=pd.Series([5,7,4,8,3],index=['a','b','c','d','e'])\n",
    "\n",
    "d1={'k1':s1,'k2':s2}\n",
    "\n",
    "df=pd.DataFrame(d1,columns=['k1','k2','k3'],dtype='float')\n",
    "print(df)\n",
    "\n",
    "df=df.dropna(axis=1,how='all')\n",
    "df=df.dropna(axis=0,how='any')\n",
    "\n",
    "print(df)"
   ]
  },
  {
   "cell_type": "markdown",
   "metadata": {},
   "source": [
    "### Sortowanie\n",
    "\n",
    "- `DataFrame.reorder_levels(porządek, axis=0)` - przestawia wiersze (kolumny) według nowej kolejności indeksów `porządek`,\n",
    "- `DataFrame.sort_values(klucz, axis=0)` - sortowanie wartości względem wiersza (kolumny) `klucz`; opcjonalny argument `ascending=True/False`,\n",
    "- `DataFrame.sort_index(axis=0)` - sortowanie po indeksach wierszy (kolumn); opcjonalny argument\\\\\n",
    "`ascending=True/False`."
   ]
  },
  {
   "cell_type": "code",
   "execution_count": 10,
   "metadata": {},
   "outputs": [
    {
     "name": "stdout",
     "output_type": "stream",
     "text": [
      "    k1   k2\n",
      "c  6.0  4.0\n",
      "a  1.0  5.0\n",
      "b  9.0  7.0\n",
      "d  2.0  8.0\n",
      "    k2   k1\n",
      "c  4.0  6.0\n",
      "a  5.0  1.0\n",
      "b  7.0  9.0\n",
      "d  8.0  2.0\n"
     ]
    }
   ],
   "source": [
    "df=df.sort_values('k2',axis=0)\n",
    "print(df)\n",
    "\n",
    "df=df.sort_values('c',axis=1)\n",
    "print(df)"
   ]
  },
  {
   "cell_type": "markdown",
   "metadata": {},
   "source": [
    "## Zadanie 1.\n",
    "Zaimportuj do ramki danych plik `liczby_PN.csv`. Usuń puste wiersze i puste kolumny. Przeindeksuj wiersze tak, aby indeksy ponownie były kolejnymi liczbami naturalnymi."
   ]
  },
  {
   "cell_type": "code",
   "execution_count": 11,
   "metadata": {},
   "outputs": [
    {
     "data": {
      "text/html": [
       "<div>\n",
       "<style scoped>\n",
       "    .dataframe tbody tr th:only-of-type {\n",
       "        vertical-align: middle;\n",
       "    }\n",
       "\n",
       "    .dataframe tbody tr th {\n",
       "        vertical-align: top;\n",
       "    }\n",
       "\n",
       "    .dataframe thead th {\n",
       "        text-align: right;\n",
       "    }\n",
       "</style>\n",
       "<table border=\"1\" class=\"dataframe\">\n",
       "  <thead>\n",
       "    <tr style=\"text-align: right;\">\n",
       "      <th></th>\n",
       "      <th>parzyste</th>\n",
       "      <th>nieparzyste</th>\n",
       "    </tr>\n",
       "  </thead>\n",
       "  <tbody>\n",
       "    <tr>\n",
       "      <th>0</th>\n",
       "      <td>2.0</td>\n",
       "      <td>1.0</td>\n",
       "    </tr>\n",
       "    <tr>\n",
       "      <th>1</th>\n",
       "      <td>4.0</td>\n",
       "      <td>3.0</td>\n",
       "    </tr>\n",
       "    <tr>\n",
       "      <th>2</th>\n",
       "      <td>6.0</td>\n",
       "      <td>NaN</td>\n",
       "    </tr>\n",
       "    <tr>\n",
       "      <th>3</th>\n",
       "      <td>8.0</td>\n",
       "      <td>7.0</td>\n",
       "    </tr>\n",
       "    <tr>\n",
       "      <th>4</th>\n",
       "      <td>10.0</td>\n",
       "      <td>9.0</td>\n",
       "    </tr>\n",
       "    <tr>\n",
       "      <th>5</th>\n",
       "      <td>NaN</td>\n",
       "      <td>11.0</td>\n",
       "    </tr>\n",
       "    <tr>\n",
       "      <th>6</th>\n",
       "      <td>14.0</td>\n",
       "      <td>13.0</td>\n",
       "    </tr>\n",
       "    <tr>\n",
       "      <th>7</th>\n",
       "      <td>NaN</td>\n",
       "      <td>15.0</td>\n",
       "    </tr>\n",
       "    <tr>\n",
       "      <th>8</th>\n",
       "      <td>18.0</td>\n",
       "      <td>17.0</td>\n",
       "    </tr>\n",
       "    <tr>\n",
       "      <th>9</th>\n",
       "      <td>20.0</td>\n",
       "      <td>19.0</td>\n",
       "    </tr>\n",
       "  </tbody>\n",
       "</table>\n",
       "</div>"
      ],
      "text/plain": [
       "   parzyste  nieparzyste\n",
       "0       2.0          1.0\n",
       "1       4.0          3.0\n",
       "2       6.0          NaN\n",
       "3       8.0          7.0\n",
       "4      10.0          9.0\n",
       "5       NaN         11.0\n",
       "6      14.0         13.0\n",
       "7       NaN         15.0\n",
       "8      18.0         17.0\n",
       "9      20.0         19.0"
      ]
     },
     "execution_count": 11,
     "metadata": {},
     "output_type": "execute_result"
    }
   ],
   "source": [
    "liczby_PN=pd.read_csv(\"liczby_PN.csv\")\n",
    "liczby_PN=liczby_PN.dropna(axis=1,how='all').dropna(axis=0,how='all')\n",
    "liczby_PN.index=range(0,len(liczby_PN))\n",
    "liczby_PN"
   ]
  },
  {
   "cell_type": "markdown",
   "metadata": {},
   "source": [
    "## Zadanie 2.\n",
    "Skopiuj otrzymaną w zadaniu 1 ramkę do trzech nowych ramek a następnie uzupełnij w nich braki danych `NaN` trzema różnymi metodami: interpolacji liniowej, interpolacji wielomianowej i wstawianie zadanej wartości."
   ]
  },
  {
   "cell_type": "code",
   "execution_count": 12,
   "metadata": {},
   "outputs": [
    {
     "name": "stdout",
     "output_type": "stream",
     "text": [
      "   parzyste  nieparzyste\n",
      "0       2.0          1.0\n",
      "1       4.0          3.0\n",
      "2       6.0          5.0\n",
      "3       8.0          7.0\n",
      "4      10.0          9.0\n",
      "5      12.0         11.0\n",
      "6      14.0         13.0\n",
      "7      16.0         15.0\n",
      "8      18.0         17.0\n",
      "9      20.0         19.0 \n",
      "    parzyste  nieparzyste\n",
      "0       2.0          1.0\n",
      "1       4.0          3.0\n",
      "2       6.0          5.0\n",
      "3       8.0          7.0\n",
      "4      10.0          9.0\n",
      "5      12.0         11.0\n",
      "6      14.0         13.0\n",
      "7      16.0         15.0\n",
      "8      18.0         17.0\n",
      "9      20.0         19.0 \n",
      "    parzyste  nieparzyste\n",
      "0       2.0          1.0\n",
      "1       4.0          3.0\n",
      "2       6.0          1.0\n",
      "3       8.0          7.0\n",
      "4      10.0          9.0\n",
      "5       1.0         11.0\n",
      "6      14.0         13.0\n",
      "7       1.0         15.0\n",
      "8      18.0         17.0\n",
      "9      20.0         19.0\n"
     ]
    }
   ],
   "source": [
    "liczby_PN1=liczby_PN.interpolate(method='linear')\n",
    "liczby_PN2=liczby_PN.interpolate(method='linear')\n",
    "liczby_PN3=liczby_PN.fillna(1)\n",
    "print(liczby_PN1,\"\\n\",liczby_PN2,\"\\n\",liczby_PN3)"
   ]
  },
  {
   "cell_type": "markdown",
   "metadata": {},
   "source": [
    "## Zadanie 3.\n",
    "Posortuj ramkę `sortowanie.csv` względem: kolumny `lp`, `kol1`, `kol2`."
   ]
  },
  {
   "cell_type": "code",
   "execution_count": 13,
   "metadata": {},
   "outputs": [
    {
     "name": "stdout",
     "output_type": "stream",
     "text": [
      "   lp  kol1  kol2\n",
      "0   1     1     1\n",
      "5   2     6     5\n",
      "1   3     2     3\n",
      "6   4     7     9\n",
      "2   5     3     2\n",
      "7   6     8    10\n",
      "3   7     4     4\n",
      "8   8     9     8\n",
      "4   9     5     6\n",
      "9  10    10     7\n",
      "   lp  kol1  kol2\n",
      "0   1     1     1\n",
      "1   3     2     3\n",
      "2   5     3     2\n",
      "3   7     4     4\n",
      "4   9     5     6\n",
      "5   2     6     5\n",
      "6   4     7     9\n",
      "7   6     8    10\n",
      "8   8     9     8\n",
      "9  10    10     7\n",
      "   lp  kol1  kol2\n",
      "0   1     1     1\n",
      "2   5     3     2\n",
      "1   3     2     3\n",
      "3   7     4     4\n",
      "5   2     6     5\n",
      "4   9     5     6\n",
      "9  10    10     7\n",
      "8   8     9     8\n",
      "6   4     7     9\n",
      "7   6     8    10\n"
     ]
    }
   ],
   "source": [
    "sortowanie=pd.read_csv(\"sortowanie.csv\")\n",
    "sortowanie\n",
    "print(sortowanie.sort_values(by=['lp']))\n",
    "print(sortowanie.sort_values(by=['kol1']))\n",
    "print(sortowanie.sort_values(by=['kol2']))"
   ]
  },
  {
   "cell_type": "markdown",
   "metadata": {},
   "source": [
    "## Zadanie 4.\n",
    "Zaimportuj z pliku `random_series.csv` dane do szeregu. Wartości szeregu zaokrągl do 2 miejsc po przecinku, następnie posortuj je rosnąco. Skopiuj szereg do nowego szeregu. Wartości zaokrągl do liczb całkowitych, następnie liczby podzielne przez 2 zastąp liczbą 2 a liczby podzielne przez 3 zastąp liczbą 3. Usuń z szeregu powtarzające się wartości."
   ]
  },
  {
   "cell_type": "code",
   "execution_count": 14,
   "metadata": {},
   "outputs": [
    {
     "data": {
      "text/plain": [
       "260     2.0\n",
       "195     3.0\n",
       "277   -19.0\n",
       "202   -17.0\n",
       "199   -13.0\n",
       "276   -11.0\n",
       "109    -7.0\n",
       "167    -5.0\n",
       "263    -1.0\n",
       "58      1.0\n",
       "259     5.0\n",
       "251     7.0\n",
       "185    11.0\n",
       "61     13.0\n",
       "73     17.0\n",
       "182    19.0\n",
       "180    23.0\n",
       "Name: 0, dtype: float64"
      ]
     },
     "execution_count": 14,
     "metadata": {},
     "output_type": "execute_result"
    }
   ],
   "source": [
    "random_series=pd.read_csv(\"random_series.csv\",decimal=',',header=None).squeeze()\n",
    "random_series=random_series.round(2).sort_values()\n",
    "random_series2=random_series.copy()\n",
    "random_series2=random_series2.round(0)\n",
    "random_series2=random_series2.mask(random_series2%2==0,2).mask(random_series2%3==0,3).drop_duplicates()\n",
    "random_series2"
   ]
  },
  {
   "cell_type": "markdown",
   "metadata": {},
   "source": [
    "## Zadanie 5.\n",
    "Zaimportuj ramki danych `df1.csv` i `df2.csv`. Wykonaj na nich następujące działaja:\n",
    "\n",
    " - do każdego elementu ramki `df1` dodaj 2,\n",
    " - oblicz iloczyny elementów w kolumnach ramki `df1`\n",
    " - każdy element ramki `df2` pomnóż przez -1,\n",
    " - oblicz sumy elementów w kolumnach ramki `df2`,\n",
    " - dodaj, odejmij, pomnóż i podziel przez siebie elementy obydwu ramek miejsce w miejsce,\n",
    " - połącz obie ramki w jedną.\n"
   ]
  },
  {
   "cell_type": "code",
   "execution_count": 15,
   "metadata": {},
   "outputs": [
    {
     "name": "stdout",
     "output_type": "stream",
     "text": [
      "+2 \n",
      "      0  1\n",
      "0  3.0  4\n",
      "1  4.0  5\n",
      "2  5.0  7\n",
      "3  NaN  4 \n",
      "\n",
      "df1 product\n",
      " 0     6.0\n",
      "1    60.0\n",
      "dtype: float64 \n",
      "\n",
      "df2*-1\n",
      "    0    1\n",
      "0  1 -2.0\n",
      "1 -3  NaN\n",
      "2 -4 -1.0\n",
      "3 -6  1.0 \n",
      "\n",
      "df2 sum\n",
      " 0    12.0\n",
      "1     2.0\n",
      "dtype: float64 \n",
      "\n",
      "df1+df2\n",
      "      0    1\n",
      "0  0.0  4.0\n",
      "1  5.0  NaN\n",
      "2  7.0  6.0\n",
      "3  NaN  1.0 \n",
      "\n",
      "df1-df2\n",
      "      0    1\n",
      "0  2.0  0.0\n",
      "1 -1.0  NaN\n",
      "2 -1.0  4.0\n",
      "3  NaN  3.0 \n",
      "\n",
      "df1/df2\n",
      "           0    1\n",
      "0 -1.000000  1.0\n",
      "1  0.666667  NaN\n",
      "2  0.750000  5.0\n",
      "3       NaN -2.0 \n",
      "\n",
      "     0    1\n",
      "0  1.0  2.0\n",
      "1  2.0  3.0\n",
      "2  3.0  5.0\n",
      "3  NaN  2.0\n",
      "0 -1.0  2.0\n",
      "1  3.0  NaN\n",
      "2  4.0  1.0\n",
      "3  6.0 -1.0 \n",
      "\n"
     ]
    },
    {
     "name": "stderr",
     "output_type": "stream",
     "text": [
      "C:\\Users\\Minus\\AppData\\Local\\Temp\\ipykernel_5332\\1021731916.py:10: FutureWarning: The frame.append method is deprecated and will be removed from pandas in a future version. Use pandas.concat instead.\n",
      "  print(df1.append(df2),\"\\n\")\n"
     ]
    }
   ],
   "source": [
    "df1=pd.read_csv(\"df1.csv\",header=None)\n",
    "df2=pd.read_csv(\"df2.csv\",header=None)\n",
    "print(\"+2 \\n\",df1+2,\"\\n\")\n",
    "print(\"df1 product\\n\",df1.product(axis=0),\"\\n\")\n",
    "print(\"df2*-1\\n\",df2.mul(-1),\"\\n\")\n",
    "print(\"df2 sum\\n\",df2.sum(axis=0),\"\\n\")\n",
    "print(\"df1+df2\\n\",df1.add(df2),\"\\n\")\n",
    "print(\"df1-df2\\n\",df1.sub(df2),\"\\n\")\n",
    "print(\"df1/df2\\n\",df1.div(df2),\"\\n\")\n",
    "print(df1.append(df2),\"\\n\")"
   ]
  },
  {
   "cell_type": "code",
   "execution_count": null,
   "metadata": {},
   "outputs": [],
   "source": []
  }
 ],
 "metadata": {
  "kernelspec": {
   "display_name": "Python 3",
   "language": "python",
   "name": "python3"
  },
  "language_info": {
   "codemirror_mode": {
    "name": "ipython",
    "version": 3
   },
   "file_extension": ".py",
   "mimetype": "text/x-python",
   "name": "python",
   "nbconvert_exporter": "python",
   "pygments_lexer": "ipython3",
   "version": "3.11.0"
  }
 },
 "nbformat": 4,
 "nbformat_minor": 4
}
