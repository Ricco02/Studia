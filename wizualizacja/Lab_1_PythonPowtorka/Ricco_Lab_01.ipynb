{
 "cells": [
  {
   "cell_type": "markdown",
   "metadata": {},
   "source": [
    "# Laboratorium 1 - powtórka z Pythona"
   ]
  },
  {
   "cell_type": "markdown",
   "metadata": {},
   "source": [
    "## Hello World\n",
    "    \n",
    "Wypisz na ekran `Hello world!`"
   ]
  },
  {
   "cell_type": "code",
   "execution_count": 1,
   "metadata": {},
   "outputs": [
    {
     "name": "stdout",
     "output_type": "stream",
     "text": [
      "Hello World\n"
     ]
    }
   ],
   "source": [
    "print(\"Hello World\")\n"
   ]
  },
  {
   "cell_type": "markdown",
   "metadata": {},
   "source": [
    "## Zmienne\n",
    "\n",
    "Utwórz zmienne `x=6` oraz `y=3.5` i oblicz ich sumę."
   ]
  },
  {
   "cell_type": "code",
   "execution_count": 2,
   "metadata": {},
   "outputs": [
    {
     "data": {
      "text/plain": [
       "9.5"
      ]
     },
     "execution_count": 2,
     "metadata": {},
     "output_type": "execute_result"
    }
   ],
   "source": [
    "x=6\n",
    "y=3.5\n",
    "x+y\n"
   ]
  },
  {
   "cell_type": "markdown",
   "metadata": {},
   "source": [
    "## Łańcuchy znaków\n",
    "Utwórz zmienną x będącą łańcuchem `'Ala ma kota'`. Wypisz trzecią literę. Wypisz fragment zdania od 3 do 5 litery włącznie."
   ]
  },
  {
   "cell_type": "code",
   "execution_count": 3,
   "metadata": {},
   "outputs": [
    {
     "name": "stdout",
     "output_type": "stream",
     "text": [
      "a\n",
      "a m\n"
     ]
    }
   ],
   "source": [
    "x='Ala ma kota'\n",
    "print(x[2])\n",
    "print(x[2:5])"
   ]
  },
  {
   "cell_type": "markdown",
   "metadata": {},
   "source": [
    "Utwórz i wypisz zmienną `data` będącą zdaniem `'Dziś jest [DD] [MM]'`, wstawiając w miejsce `[DD]` i `[MM]` aktualny dzień i miesiąc (proszę nie wpisywać ręcznie!)."
   ]
  },
  {
   "cell_type": "code",
   "execution_count": 4,
   "metadata": {},
   "outputs": [
    {
     "name": "stdout",
     "output_type": "stream",
     "text": [
      "Dzisiaj jest 02 03\n"
     ]
    }
   ],
   "source": [
    "from datetime import date\n",
    "data=str(date.today())\n",
    "print(f\"Dzisiaj jest {data[8:10]} {data[5:7]}\")"
   ]
  },
  {
   "cell_type": "markdown",
   "metadata": {},
   "source": [
    "Utwórz łańcuch `'Jutro będzie 4.03.2021'`. Za pomocą funkcji `int()` oblicz sumę cyfr występujących w tym łańcuchu."
   ]
  },
  {
   "cell_type": "code",
   "execution_count": 5,
   "metadata": {},
   "outputs": [
    {
     "data": {
      "text/plain": [
       "12"
      ]
     },
     "execution_count": 5,
     "metadata": {},
     "output_type": "execute_result"
    }
   ],
   "source": [
    "jutro=\"jutro będzie 4.03.2021\"\n",
    "s=int()\n",
    "for q in jutro: \n",
    "    if q.isdigit(): \n",
    "        s+=int(q)\n",
    "s"
   ]
  },
  {
   "cell_type": "markdown",
   "metadata": {},
   "source": [
    "Utwórz zmienną `zdanie` o wartości `'Ala ma kota'`. Za pomocą funckji `replace()` zastąp `'Ala'` na `'Kasia'`."
   ]
  },
  {
   "cell_type": "code",
   "execution_count": 6,
   "metadata": {},
   "outputs": [
    {
     "data": {
      "text/plain": [
       "'Kasia ma kota'"
      ]
     },
     "execution_count": 6,
     "metadata": {},
     "output_type": "execute_result"
    }
   ],
   "source": [
    "zdanie=\"Ala ma kota\"\n",
    "zdanie=zdanie.replace(\"Ala\",\"Kasia\")\n",
    "zdanie"
   ]
  },
  {
   "cell_type": "markdown",
   "metadata": {},
   "source": [
    "Podziel łańcuch `countries='Nowa Zelandia,Kanada,Francja,Irlandia,Burkina Faso'` na słowa, z których każde jest osobną nazwą państwa."
   ]
  },
  {
   "cell_type": "code",
   "execution_count": 7,
   "metadata": {},
   "outputs": [
    {
     "data": {
      "text/plain": [
       "['Nowa Zelandia', 'Kanada', 'Francja', 'Irlandia', 'Burkina Faso']"
      ]
     },
     "execution_count": 7,
     "metadata": {},
     "output_type": "execute_result"
    }
   ],
   "source": [
    "countries='Nowa Zelandia,Kanada,Francja,Irlandia,Burkina Faso'\n",
    "\n",
    "countries.split(\",\")\n"
   ]
  },
  {
   "cell_type": "markdown",
   "metadata": {},
   "source": [
    "## Liczby losowe\n",
    "\n",
    "Przypisz zmiennej `x` wartość losową zmiennoprzecinkową z zakresu od 0 do 1, zmiennej `y` wartość losową zmiennoprzecinkową z zakresu od 8 do 9 i zmiennej `z` losową wartość całkowitą z zakresu od 10 do 20."
   ]
  },
  {
   "cell_type": "code",
   "execution_count": 8,
   "metadata": {},
   "outputs": [
    {
     "name": "stdout",
     "output_type": "stream",
     "text": [
      "0.09246326461374266 8.008963873052764 19\n"
     ]
    }
   ],
   "source": [
    "\n",
    "import random\n",
    "x=random.random()\n",
    "y=random.uniform(8,9)\n",
    "z=random.randint(10,20)\n",
    "print(x,y,z)\n"
   ]
  },
  {
   "cell_type": "markdown",
   "metadata": {},
   "source": [
    "## Interakcja z użytkownikiem\n",
    "\n",
    "Napisz krótki skrypt, który mnoży dwie liczby rzeczywiste `a` i `b` podane przez użytkownika. W przypadku, gdy użytkownik się pomyli i użyje przecinka jako separatora dziesiętnego skrypt dalej ma działać poprawnie."
   ]
  },
  {
   "cell_type": "code",
   "execution_count": 9,
   "metadata": {},
   "outputs": [
    {
     "name": "stdout",
     "output_type": "stream",
     "text": [
      "Podaj a i naciśnij enter: \n",
      "Podaj b i naciśnij enter: \n",
      "Wynik mnozenia 16495.800000000003\n"
     ]
    }
   ],
   "source": [
    "print(\"Podaj a i naciśnij enter: \")\n",
    "a=float(input().replace(\",\",\".\"))\n",
    "print(\"Podaj b i naciśnij enter: \")\n",
    "b=float(input().replace(\",\",\".\"))\n",
    "print(f\"Wynik mnozenia {a*b}\")"
   ]
  },
  {
   "cell_type": "markdown",
   "metadata": {},
   "source": [
    "Napisz krótki skrypt, który zapyta użytkownika o datę urodzenia w formacie DD.MM.RRRR, a następnie obliczy i wypisze wiek użytkownika: `'Twój aktualny wiek to [...]'.`"
   ]
  },
  {
   "cell_type": "code",
   "execution_count": 10,
   "metadata": {},
   "outputs": [
    {
     "name": "stdout",
     "output_type": "stream",
     "text": [
      "Podaj datę urodzin w formacie DD.MM.RRRR i wciśnij enter:\n",
      "Twój aktualny wiek to 778 lat\n"
     ]
    }
   ],
   "source": [
    "# TYPE YOUR CODE BELOW\n",
    "from datetime import datetime\n",
    "print(\"Podaj datę urodzin w formacie DD.MM.RRRR i wciśnij enter:\")\n",
    "data=input()\n",
    "given_date=datetime.strptime(data,\"%d.%m.%Y\")\n",
    "current_date=datetime.now() \n",
    "duration=current_date-given_date \n",
    "print(f\"Twój aktualny wiek to {int(duration.days/365)} lat\")"
   ]
  },
  {
   "cell_type": "markdown",
   "metadata": {},
   "source": [
    "## Warunek if oraz pętle\n",
    "\n",
    "Napisz skrypt, który prosi użytkownika o podanie hasła. Jeżeli hasło nie jest poprawne, wypisze komunikat `'Błędne hasło'` i ponownie poprosi o podanie hasła. W przeciwnym wypadku wypisze `'Hasło jest poprawne'` i zakończy działanie."
   ]
  },
  {
   "cell_type": "code",
   "execution_count": 11,
   "metadata": {},
   "outputs": [
    {
     "name": "stdout",
     "output_type": "stream",
     "text": [
      "Podaj hasło: \n",
      "Hasło jest błędne!!!1!1!11!\n",
      "Podaj hasło: \n",
      "Hasło jest poprawne B)\n"
     ]
    }
   ],
   "source": [
    "password = '12asd'\n",
    "\n",
    "while(True):\n",
    "    print(\"Podaj hasło: \")\n",
    "    password_given=input()\n",
    "    if(password==password_given):\n",
    "        print(\"Hasło jest poprawne B)\")\n",
    "        break\n",
    "    else:\n",
    "        print(\"Hasło jest błędne!\")\n"
   ]
  },
  {
   "cell_type": "markdown",
   "metadata": {},
   "source": [
    "Napisz skrypt, który zapyta użytkownika o imię oraz wiek, a następnie poprawnie obliczy rok urodzenia i wypisze komunikat: `'Urodziłeś się w roku (...)'` albo `'Urodziłaś się w roku (...)'` określając płeć na podstawie imienia użytkownika."
   ]
  },
  {
   "cell_type": "code",
   "execution_count": 12,
   "metadata": {},
   "outputs": [
    {
     "name": "stdout",
     "output_type": "stream",
     "text": [
      "Urodziłaś się w 1999 roku\n"
     ]
    }
   ],
   "source": [
    "import datetime\n",
    "name=input(\"Podaj imię: \")\n",
    "age=int(input(\"Podaj swój wiek: \"))\n",
    "currentDateTime = datetime.datetime.now() \n",
    "date = currentDateTime.date()\n",
    "if name[-1]==\"a\":\n",
    "    print(f\"Urodziłaś się w {date.year-age} roku\")\n",
    "else:\n",
    "    print(f\"Urodziłeś się w {date.year-age} roku\")\n",
    "\n"
   ]
  },
  {
   "cell_type": "markdown",
   "metadata": {},
   "source": [
    "Wypisz za pomocą pętli liczby naturalne od 0 do 20."
   ]
  },
  {
   "cell_type": "code",
   "execution_count": 13,
   "metadata": {},
   "outputs": [
    {
     "name": "stdout",
     "output_type": "stream",
     "text": [
      "0\n",
      "1\n",
      "2\n",
      "3\n",
      "4\n",
      "5\n",
      "6\n",
      "7\n",
      "8\n",
      "9\n",
      "10\n",
      "11\n",
      "12\n",
      "13\n",
      "14\n",
      "15\n",
      "16\n",
      "17\n",
      "18\n",
      "19\n",
      "20\n"
     ]
    }
   ],
   "source": [
    "for i in range(0,21):\n",
    "    print(i)\n"
   ]
  },
  {
   "cell_type": "markdown",
   "metadata": {},
   "source": [
    "Wypisz za pomocą pętli liczby naturalne od 20 do 0 (malejąco)."
   ]
  },
  {
   "cell_type": "code",
   "execution_count": 14,
   "metadata": {},
   "outputs": [
    {
     "name": "stdout",
     "output_type": "stream",
     "text": [
      "20\n",
      "19\n",
      "18\n",
      "17\n",
      "16\n",
      "15\n",
      "14\n",
      "13\n",
      "12\n",
      "11\n",
      "10\n",
      "9\n",
      "8\n",
      "7\n",
      "6\n",
      "5\n",
      "4\n",
      "3\n",
      "2\n",
      "1\n",
      "0\n"
     ]
    }
   ],
   "source": [
    "for i in range(20,-1,-1):\n",
    "    print(i)\n"
   ]
  },
  {
   "cell_type": "markdown",
   "metadata": {},
   "source": [
    "Wypisz za pomocą pętli tabliczkę mnożenia dla liczb od 0 do 9 (bez niepotrzebnych powtórzeń, tzn. jeżeli wypisaliśmy `2*3`, to już nie wypisujemy `3*2`)."
   ]
  },
  {
   "cell_type": "code",
   "execution_count": 15,
   "metadata": {},
   "outputs": [
    {
     "name": "stdout",
     "output_type": "stream",
     "text": [
      "[['0*0=0', '0*1=0', '0*2=0', '0*3=0', '0*4=0', '0*5=0', '0*6=0', '0*7=0', '0*8=0', '0*9=0'], ['1*1=1', '1*2=2', '1*3=3', '1*4=4', '1*5=5', '1*6=6', '1*7=7', '1*8=8', '1*9=9'], ['2*2=4', '2*3=6', '2*4=8', '2*5=10', '2*6=12', '2*7=14', '2*8=16', '2*9=18'], ['3*3=9', '3*4=12', '3*5=15', '3*6=18', '3*7=21', '3*8=24', '3*9=27'], ['4*4=16', '4*5=20', '4*6=24', '4*7=28', '4*8=32', '4*9=36'], ['5*5=25', '5*6=30', '5*7=35', '5*8=40', '5*9=45'], ['6*6=36', '6*7=42', '6*8=48', '6*9=54'], ['7*7=49', '7*8=56', '7*9=63'], ['8*8=64', '8*9=72'], ['9*9=81']]\n"
     ]
    }
   ],
   "source": [
    "c=[]\n",
    "\n",
    "for i in range(0,10):\n",
    "    d=[]\n",
    "    for j in range(i,10):\n",
    "        d.append(f\"{i}*{j}={i*j}\")\n",
    "    c.append(d)\n",
    "print(c)"
   ]
  },
  {
   "cell_type": "markdown",
   "metadata": {},
   "source": [
    "Za pomocą pętli oblicz sumę wszystkich liczb parzystych od 0 do 20."
   ]
  },
  {
   "cell_type": "code",
   "execution_count": 16,
   "metadata": {},
   "outputs": [
    {
     "name": "stdout",
     "output_type": "stream",
     "text": [
      "110\n"
     ]
    }
   ],
   "source": [
    "summ=0\n",
    "for i in range(0,21,2):\n",
    "    summ+=i\n",
    "print(summ)"
   ]
  },
  {
   "cell_type": "markdown",
   "metadata": {},
   "source": [
    "Napisz krótki skrypt, który generuje liczby losowe z przedziału od 10 do 30 tak długo, dopóki nie wygeneruje liczby 15."
   ]
  },
  {
   "cell_type": "code",
   "execution_count": 17,
   "metadata": {},
   "outputs": [
    {
     "name": "stdout",
     "output_type": "stream",
     "text": [
      "Wylosowana liczba to 25\n",
      "Wylosowana liczba to 28\n",
      "Wylosowana liczba to 14\n",
      "Wylosowana liczba to 18\n",
      "Wylosowana liczba to 21\n",
      "Wylosowana liczba to 23\n",
      "Wylosowana liczba to 25\n",
      "Wylosowana liczba to 28\n",
      "Wylosowana liczba to 11\n",
      "Wylosowana liczba to 12\n",
      "Wylosowana liczba to 17\n",
      "Wylosowana liczba to 21\n",
      "Wylosowana liczba to 20\n",
      "Wylosowana liczba to 20\n",
      "Wylosowana liczba to 10\n",
      "Wylosowana liczba to 19\n",
      "Wylosowana liczba to 15\n",
      "Koniec pętli\n"
     ]
    }
   ],
   "source": [
    "rand=0\n",
    "while(rand!=15):\n",
    "    rand=random.randint(10,30)\n",
    "    print(f\"Wylosowana liczba to {rand}\")\n",
    "print(\"Koniec pętli\")"
   ]
  },
  {
   "cell_type": "markdown",
   "metadata": {},
   "source": [
    "Skopiuj skrypt, który prosił użytkownika o podanie hasła. Zmień go tak, aby użytkownik miał tylko 3 próby na podanie poprawnego hasła."
   ]
  },
  {
   "cell_type": "code",
   "execution_count": 18,
   "metadata": {},
   "outputs": [
    {
     "name": "stdout",
     "output_type": "stream",
     "text": [
      "Podaj hasło: \n",
      "Hasło jest błędne!!!1!1!11!, Zostało tylko 2 podejść\n",
      "Podaj hasło: \n",
      "Hasło jest błędne!!!1!1!11!, Zostało tylko 1 podejść\n",
      "Podaj hasło: \n",
      "Hasło jest błędne!!!1!1!11!, Zostało tylko 0 podejść\n"
     ]
    }
   ],
   "source": [
    "password = '12asd'\n",
    "\n",
    "\n",
    "for i in range(2,-1,-1):\n",
    "    print(\"Podaj hasło: \")\n",
    "    password_given=input()\n",
    "    if(password==password_given):\n",
    "        print(\"Hasło jest poprawne B)\")\n",
    "        break\n",
    "    else:\n",
    "        print(f\"Hasło jest błędne!!!1!1!11!, Zostało tylko {i} podejść\")"
   ]
  },
  {
   "cell_type": "markdown",
   "metadata": {},
   "source": [
    "Za pomocą pętli znajdź i wypisz wszystkie pozycje w stringu `'Hello World, what a lovely day'`, na których występuje litera `l`."
   ]
  },
  {
   "cell_type": "code",
   "execution_count": 19,
   "metadata": {},
   "outputs": [
    {
     "data": {
      "text/plain": [
       "[2, 3, 9, 20, 24]"
      ]
     },
     "execution_count": 19,
     "metadata": {},
     "output_type": "execute_result"
    }
   ],
   "source": [
    "sentence = 'Hello World, what a lovely day'\n",
    "\n",
    "import re\n",
    "[m.start() for m in re.finditer(\"l\",sentence)]\n"
   ]
  },
  {
   "cell_type": "markdown",
   "metadata": {},
   "source": [
    "Za pomocą pętli zastąp wszystkie litery `l` w zmiennej `sentence` z poprzedniego zadania kolejnymi literami alfabetu."
   ]
  },
  {
   "cell_type": "code",
   "execution_count": 20,
   "metadata": {},
   "outputs": [
    {
     "name": "stdout",
     "output_type": "stream",
     "text": [
      "2 a\n",
      "3 b\n",
      "9 c\n",
      "20 d\n",
      "24 e\n"
     ]
    },
    {
     "data": {
      "text/plain": [
       "'Heabo Worcd, what a doveey day'"
      ]
     },
     "execution_count": 20,
     "metadata": {},
     "output_type": "execute_result"
    }
   ],
   "source": [
    "sentence = 'Hello World, what a lovely day'\n",
    "\n",
    "import string\n",
    "alf=list(string.ascii_lowercase) \n",
    "ind=[m.start() for m in re.finditer(\"l\",sentence)]\n",
    "alf=alf[0:len(ind)] \n",
    "for index,ch in zip(ind,alf): \n",
    "    print(index,ch) \n",
    "    sentence=sentence.replace(\"l\",ch,1)\n",
    "sentence\n"
   ]
  },
  {
   "cell_type": "markdown",
   "metadata": {},
   "source": [
    "Utwórz listę `miasta` zawierającą nazwy miast: Kraków, Wrocław, Warszawa, Kołobrzeg, Tarnów, Katowice, Radom\n",
    "- wypisz w pętli te miasta, których nazwa zawiera literę k lub w\n",
    "- wypisz w pętli te miasta, których nazwa jest dłuższa niż 7 znaków"
   ]
  },
  {
   "cell_type": "code",
   "execution_count": 21,
   "metadata": {},
   "outputs": [
    {
     "name": "stdout",
     "output_type": "stream",
     "text": [
      "['Kraków', ' Wrocław', ' Warszawa', ' Tarnów', ' Katowice']\n",
      "[' Wrocław', ' Warszawa', ' Kołobrzeg', ' Katowice']\n"
     ]
    }
   ],
   "source": [
    "miasta='Kraków, Wrocław, Warszawa, Kołobrzeg, Tarnów, Katowice, Radom'.split(\",\")\n",
    "wk=[]\n",
    "for city in miasta:\n",
    "    if \"k\" in city or \"w\" in city:\n",
    "        wk.append(city)\n",
    "print(wk)\n",
    "\n",
    "l7=[]\n",
    "for city in miasta:\n",
    "    if len(city)>7:\n",
    "        l7.append(city)\n",
    "print(l7)"
   ]
  },
  {
   "cell_type": "markdown",
   "metadata": {},
   "source": [
    "## Funkcje\n",
    "\n",
    "Napisz funkcję `fib_n`, która obliczy zadany przez użytkownika wyraz ciągu Fibonacciego."
   ]
  },
  {
   "cell_type": "code",
   "execution_count": 35,
   "metadata": {},
   "outputs": [
    {
     "data": {
      "text/plain": [
       "5"
      ]
     },
     "execution_count": 35,
     "metadata": {},
     "output_type": "execute_result"
    }
   ],
   "source": [
    "x=int(input())\n",
    "def fib_n(n):\n",
    "    if n in {0, 1}: \n",
    "         return n\n",
    "    return fib_n(n - 1) + fib_n(n - 2)\n",
    "fib_n(x)"
   ]
  },
  {
   "cell_type": "markdown",
   "metadata": {},
   "source": [
    "Wykorzystując funkcję `fib_n` napisz funkcję `fib_all`, która wypisze na ekran zadaną przez użytkownika liczbę początkowych wyrazów ciągu Fibonacciego."
   ]
  },
  {
   "cell_type": "code",
   "execution_count": 37,
   "metadata": {},
   "outputs": [
    {
     "name": "stdout",
     "output_type": "stream",
     "text": [
      "[0, 1, 1, 2, 3]\n"
     ]
    }
   ],
   "source": [
    "ammount=int(input())\n",
    "def fib_all():\n",
    "    print([fib_n(x) for x in range(0,ammount)]) \n",
    "fib_all()"
   ]
  },
  {
   "cell_type": "markdown",
   "metadata": {},
   "source": [
    "Oblicz sumę n kolejnych liczb naturalnych (od 1 do n włącznie)\n",
    "- za pomocą rekurencji\n",
    "- za pomocą pętli\n",
    "Jak duże n przyjmuje skrypt z rekurencją, a jak duże pętla?"
   ]
  },
  {
   "cell_type": "code",
   "execution_count": 25,
   "metadata": {},
   "outputs": [
    {
     "name": "stdout",
     "output_type": "stream",
     "text": [
      "167331\n",
      "167331\n"
     ]
    }
   ],
   "source": [
    "n=int(input())\n",
    "def recu(x,sums):\n",
    "    sums+=x\n",
    "    if x<n:\n",
    "        return recu(x+1,sums)\n",
    "    return sums\n",
    "print(recu(0,0))\n",
    "\n",
    "sums=0\n",
    "for i in range(0,n+1):\n",
    "    sums+=i\n",
    "print(sums)"
   ]
  },
  {
   "cell_type": "markdown",
   "metadata": {},
   "source": [
    "## Listy\n",
    "\n",
    "Utwórz listę 100 liczb naturalnych (pseudo)losowych z przedziału od 1 do 10. Dla każdej z wylosowanych liczb oblicz, ile razy dana liczba się powtórzyła."
   ]
  },
  {
   "cell_type": "code",
   "execution_count": 26,
   "metadata": {},
   "outputs": [
    {
     "data": {
      "text/plain": [
       "Counter({7: 14, 1: 12, 6: 10, 10: 8, 4: 10, 9: 14, 3: 10, 2: 8, 8: 7, 5: 7})"
      ]
     },
     "execution_count": 26,
     "metadata": {},
     "output_type": "execute_result"
    }
   ],
   "source": [
    "from collections import Counter\n",
    "numbers=[random.randint(1,10) for x in range(0,100)] \n",
    "count=Counter(numbers) \n",
    "count"
   ]
  },
  {
   "cell_type": "markdown",
   "metadata": {},
   "source": [
    "Utwórz listę 10 liczb naturalnych (pseudo)losowych z dowolnego przedziału. Posortuj listę malejąco nie korzystając z funkcji reversed() (wskazówka: skorzystaj z „cięcia” listy)."
   ]
  },
  {
   "cell_type": "code",
   "execution_count": 27,
   "metadata": {},
   "outputs": [
    {
     "data": {
      "text/plain": [
       "[2, 2, 3, 3, 4, 4, 5, 7, 8, 8]"
      ]
     },
     "execution_count": 27,
     "metadata": {},
     "output_type": "execute_result"
    }
   ],
   "source": [
    "numbers=[random.randint(1,10) for x in range(0,10)]\n",
    "for i in range(len(numbers)):\n",
    "    for j in range(len(numbers) - 1):\n",
    "        if numbers[j] > numbers[j+1]:\n",
    "            numbers[j+1], numbers[j] = numbers[j], numbers[j+1]\n",
    "numbers\n"
   ]
  },
  {
   "cell_type": "markdown",
   "metadata": {},
   "source": [
    "Utwórz listę 5 par liczb naturalnych.\n",
    "- posortuj pary względem pierwszego elementu\n",
    "- posortuj pary względem drugiego elementu"
   ]
  },
  {
   "cell_type": "code",
   "execution_count": 28,
   "metadata": {},
   "outputs": [
    {
     "name": "stdout",
     "output_type": "stream",
     "text": [
      "Względem pierwszego: [(1, 2), (5, 6), (8, 68), (15, 2), (94, 45)]\n",
      "Względem drugiego: [(1, 2), (15, 2), (5, 6), (94, 45), (8, 68)]\n"
     ]
    }
   ],
   "source": [
    "list_of_pairs=[(1,2),(15,2),(94,45),(5,6),(8,68)]\n",
    "print(f\"Względem pierwszego: {sorted(list_of_pairs, key=lambda x: x[0], reverse=False)}\") \n",
    "print(f\"Względem drugiego: {sorted(list_of_pairs, key=lambda x: x[1], reverse=False)}\")\n"
   ]
  },
  {
   "cell_type": "markdown",
   "metadata": {},
   "source": [
    "## Zapis/odczyt pliku\n",
    "\n",
    "Utwórz (za pomocą skryptu, nie w zewnętrznym programie) plik `test.txt` zawierający tekst:"
   ]
  },
  {
   "cell_type": "markdown",
   "metadata": {},
   "source": [
    "\t`Ślachetne zdrowie,\n",
    "\tnikt się nie dowie, \n",
    "\tjako smakujesz, \n",
    "\taż się zepsujesz.`"
   ]
  },
  {
   "cell_type": "markdown",
   "metadata": {},
   "source": [
    "Zamknij plik."
   ]
  },
  {
   "cell_type": "code",
   "execution_count": 29,
   "metadata": {},
   "outputs": [],
   "source": [
    "text=\"\"\"Ślachetne zdrowie,\n",
    "nikt się nie dowie, \n",
    "jako smakujesz, \n",
    "aż się zepsujesz.\"\"\"\n",
    "plick=open(\"text.txt\",\"w\") \n",
    "plick.write(text)\n",
    "plick.close()\n"
   ]
  },
  {
   "cell_type": "markdown",
   "metadata": {},
   "source": [
    "Otwórz plik `test.txt` i dodaj do niego drugą zwrotkę fraszki"
   ]
  },
  {
   "cell_type": "markdown",
   "metadata": {},
   "source": [
    "\t`Tam człowiek prawie \n",
    "\twidzi na jawie \n",
    "\ti sam to powie, \n",
    "\tże nic nad zdrowie\n",
    "\tani lepszego,\n",
    "\tani droższego.`"
   ]
  },
  {
   "cell_type": "markdown",
   "metadata": {},
   "source": [
    "Zamknij plik."
   ]
  },
  {
   "cell_type": "code",
   "execution_count": 30,
   "metadata": {},
   "outputs": [],
   "source": [
    "text=\"\"\"Tam człowiek prawie \n",
    "widzi na jawie \n",
    "i sam to powie, \n",
    "że nic nad zdrowie\n",
    "ani lepszego,\n",
    "ani droższego.\"\"\"\n",
    "plick=open(\"text.txt\",\"a\") \n",
    "plick.write(text) \n",
    "plick.close() "
   ]
  },
  {
   "cell_type": "markdown",
   "metadata": {},
   "source": [
    "Zamień w pliku `test.txt` rzeczownik `zdrowie` na `sitowie`."
   ]
  },
  {
   "cell_type": "code",
   "execution_count": 31,
   "metadata": {},
   "outputs": [],
   "source": [
    "with open('text.txt',\"r+\") as p: \n",
    "    text=p.read() \n",
    "    p.seek(0) \n",
    "    p.truncate() \n",
    "    p.write(text.replace(\"zdrowie\",\"sitowie\")) \n"
   ]
  },
  {
   "cell_type": "markdown",
   "metadata": {},
   "source": [
    "Usuń z pliku `test.txt` co drugą linię tekstu."
   ]
  },
  {
   "cell_type": "code",
   "execution_count": 32,
   "metadata": {},
   "outputs": [],
   "source": [
    "with open('text.txt',\"r+\") as p: \n",
    "    textlines=p.readlines() \n",
    "    p.seek(0) \n",
    "    p.truncate() \n",
    "    for index, line in enumerate(textlines): \n",
    "        if index in range(0,100,2): \n",
    "            p.write(line) "
   ]
  },
  {
   "cell_type": "code",
   "execution_count": null,
   "metadata": {},
   "outputs": [],
   "source": []
  }
 ],
 "metadata": {
  "kernelspec": {
   "display_name": "Python 3",
   "language": "python",
   "name": "python3"
  },
  "language_info": {
   "codemirror_mode": {
    "name": "ipython",
    "version": 3
   },
   "file_extension": ".py",
   "mimetype": "text/x-python",
   "name": "python",
   "nbconvert_exporter": "python",
   "pygments_lexer": "ipython3",
   "version": "3.10.9"
  }
 },
 "nbformat": 4,
 "nbformat_minor": 4
}
