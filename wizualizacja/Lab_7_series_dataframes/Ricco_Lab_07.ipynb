{
 "cells": [
  {
   "cell_type": "markdown",
   "metadata": {},
   "source": [
    "# Pandas - struktury danych\n",
    "\n",
    "## Szereg `Series`\n",
    "\n",
    "Szereg (`Series`) jest jednowymiarową strukturą danych będącą po prostu indeksowanym wektorem (tablicą jednowymiarową). Szereg tworzymy konstruktorem `pandas.Series(dane,index=indeksy)`, gdzie `dane` to elementy tworzonej tablicy a `indeksy` to lista (tablica jednowymiarowa, wektor) indeksów przypisanych elementom. Przypisanie indeksu do konkretnego elementu jest stałe i nie zmieni się, dopóki explicite nie wymusimy zmiany indeksacji (o tym później). Możliwe typy elementów szeregu to:\n",
    "\n",
    "- pojedyncza liczba - w tym przypadku podanie indeksów jest obowiązkowe. Utworzony wektor będzie się składał z tylu powtórzeń podanej liczby, ile zadamy indeksów."
   ]
  },
  {
   "cell_type": "code",
   "execution_count": 1,
   "metadata": {},
   "outputs": [
    {
     "name": "stdout",
     "output_type": "stream",
     "text": [
      "a    7\n",
      "b    7\n",
      "c    7\n",
      "d    7\n",
      "dtype: int64\n"
     ]
    }
   ],
   "source": [
    "import pandas as pd\n",
    "\n",
    "s=pd.Series(7,index=['a','b','c','d'])\n",
    "print(s)"
   ]
  },
  {
   "cell_type": "markdown",
   "metadata": {},
   "source": [
    "- jednowymiarowa tablica `ndarray` lub inny jednowymiarowy indeksowany typ tablicopodobny (np. lista) - podanie indeksów jest opcjonalne. W tym przypadku domyślnie przyjmowane jestm `index=[0,1,...,len(dane)-1]`. Jeżeli zadajemy `index` ręcznie, to jego długość musi być równa liczbie elementów w tablicy `dane`, ale niekoniecznie muszą być to liczby; co więcej, indeksy mogą się powtarzać (ale nie jest to zalecane). Typ danych w szeregu zostanie dobrany tak, aby wspólnie obejmował wszystkie typy poszczególnych elementów."
   ]
  },
  {
   "cell_type": "code",
   "execution_count": 2,
   "metadata": {},
   "outputs": [
    {
     "name": "stdout",
     "output_type": "stream",
     "text": [
      "0    0.766370\n",
      "1    0.744063\n",
      "2    0.864259\n",
      "3    0.790317\n",
      "4    0.020227\n",
      "dtype: float64\n"
     ]
    }
   ],
   "source": [
    "import numpy as np\n",
    "\n",
    "data=np.random.random(5)\n",
    "\n",
    "t=pd.Series(data)\n",
    "print(t)"
   ]
  },
  {
   "cell_type": "code",
   "execution_count": 3,
   "metadata": {},
   "outputs": [
    {
     "name": "stdout",
     "output_type": "stream",
     "text": [
      "a    0.766370\n",
      "b    0.744063\n",
      "c    0.864259\n",
      "d    0.790317\n",
      "e    0.020227\n",
      "dtype: float64\n"
     ]
    }
   ],
   "source": [
    "t1=pd.Series(data,index=['a','b','c','d','e'])\n",
    "print(t1)"
   ]
  },
  {
   "cell_type": "markdown",
   "metadata": {},
   "source": [
    "- słownik - podanie indeksów jest opcjonalne. Domyślnie `index` będzie listą kluczy słownika w kolejności danych w słowniku (albo w kolejności leksykograficznej kluczy danych w słowniku - starsze wersje Pythona). Możemy indeksy zadać ręcznie, ale jeżeli zaczniemy zadawać indeksy z poza listy kluczy słownika, to zostanie im przypisany `NaN` - brak danej."
   ]
  },
  {
   "cell_type": "code",
   "execution_count": 4,
   "metadata": {},
   "outputs": [
    {
     "name": "stdout",
     "output_type": "stream",
     "text": [
      "tarantula      Kubus\n",
      "kot          Mruczek\n",
      "pies            Azor\n",
      "dtype: object\n"
     ]
    }
   ],
   "source": [
    "d={'tarantula':'Kubus','kot':'Mruczek','pies':'Azor'}\n",
    "\n",
    "sd=pd.Series(d)\n",
    "print(sd)"
   ]
  },
  {
   "cell_type": "code",
   "execution_count": 5,
   "metadata": {},
   "outputs": [
    {
     "name": "stdout",
     "output_type": "stream",
     "text": [
      "kot          Mruczek\n",
      "pies            Azor\n",
      "rybka            NaN\n",
      "tarantula      Kubus\n",
      "dtype: object\n"
     ]
    }
   ],
   "source": [
    "sd1=pd.Series(d,index=['kot','pies','rybka','tarantula'])\n",
    "print(sd1)"
   ]
  },
  {
   "cell_type": "markdown",
   "metadata": {},
   "source": [
    "Pełna składnia konstruktora to `pandas.Series(data=None, index=None, dtype=None, name=None, copy=False)`, gdzie:\n",
    "\n",
    "- `data` - dane, z których tworzymy szereg,\n",
    "- `index` - lista indeksów,\n",
    "- `dtype` - string, typ danych biblioteki `numpy` lub `ExtensionDtype`; wymuszenie konkretnego typu danych szeregu,\n",
    "- `name` - nazwa naszego szeregu,\n",
    "- `copy=True/False` - jeżeli `True`, dane `data` zostaną przekazane jako kopia, a nie przez referencję.\n",
    "\n",
    "Typ `Series` dopuszcza równocześnie pewne metody macierzy jak i słownika. Przykładowo, jeżeli chcemy się odwołać do konkretnego elementu szeregu możemy to zrobić przez wywołanie elementu w sensie porządkowym: pierwszy, drugi, trzeci itp. (jak w macierzy) pamiętając, że pierwszy element to element 0 lub przez podanie konkretnego indeksu z listy `index` (jak w słowniku)."
   ]
  },
  {
   "cell_type": "code",
   "execution_count": 6,
   "metadata": {},
   "outputs": [
    {
     "name": "stdout",
     "output_type": "stream",
     "text": [
      "Mruczek\n",
      "Mruczek\n"
     ]
    }
   ],
   "source": [
    "print(sd1[0])\n",
    "print(sd1['kot'])"
   ]
  },
  {
   "cell_type": "code",
   "execution_count": 8,
   "metadata": {},
   "outputs": [
    {
     "name": "stdout",
     "output_type": "stream",
     "text": [
      "pies     Azor\n",
      "rybka     NaN\n",
      "dtype: object\n"
     ]
    }
   ],
   "source": [
    "print(sd1[1:3])"
   ]
  },
  {
   "cell_type": "markdown",
   "metadata": {},
   "source": [
    "Działają również podstawowe działania znane nam z operacji na macierzach:\n",
    "\n",
    "- `+,-` dodawanie/odejmowanie szeregu do/od szeregu jak i pojedynczej danej zgodnego typu do/od elementu (elementów) szeregu (dodawanie liczby, dodawanie stringa),\n",
    "- `*, /` mnożenie/dzielenie szeregów miejsce w miejsce lub przez liczbę dla `dtype` liczbowych. \n",
    "\n",
    "Supportowane w najnowszej wersji Pythona metody dla typu `Series` (przykładowy szereg to `sd1`):\n",
    "\n",
    "- `sd1.dtype` - typ danych w szeregu,\n",
    "- `sd1.ftype` - informuje, czy dane są typu `dense`, czy `sparse`,\n",
    "- `sd1.index` - zwraca `index` lub w przypadku `sd1.index[]` indeksy wybranych elementów,\n",
    "- `sd1.hasnans` - zwraca `True`, jeżeli szereg zawiera co najmniej jeden brak danych `NaN`\n",
    "- `sd1.iat[]` oraz `sd1.iloc[]` - wywoływanie wyłącznie po indeksie porządkowym (podanie indeksu z `index` nie zadziała),\n",
    "- `sd1.loc[]` - wywoływanie wyłącznie po indeksie z `index`,\n",
    "- `sd1.real` - w przypadku danych typu zespolonego zwraca listę części rzeczywistych,\n",
    "- `sd1.imag` - w przypadku danych typu zespolonego zwraca listę samych części urojonych,\n",
    "- `sd1.is_monotonic` - zwraca `True`, jeżeli szereg jest monotoniczny,\n",
    "- `sd1.is_monotonic_decreasing` - zwraca `True`, jeżeli szereg jest malejący,\n",
    "- `sd1.is_monotonic_increasing` - zwraca `True`, jeżeli szereg jest rosnący,\n",
    "- `sd1.is_unique` - zwraca `True`, jeżeli szereg jma wszystkie wyrazy różne,\n",
    "- `sd1.name` - zwróci nadaną szeregowi nazwę, można też użyć do nadania nazwy,\n",
    "- `sd1.nbytes` - zwraca liczbę bajtów (B) zajętych przez szereg,\n",
    "- `sd1.size` - zwraca liczbę elementów w szeregu (łącznie z elementami `NaN`),\n",
    "- `sd1.values` - zwraca dane `data` z szeregu w postaci macierzy `ndarray`.\n",
    "\n",
    "Metod działających na szeregach, które dublują się z metodami działającymi na ramce danych nie będziemy w tym miejscu omawiać szczegółowo."
   ]
  },
  {
   "cell_type": "markdown",
   "metadata": {},
   "source": [
    "## Ramka danych `DataFrame`\n",
    "\n",
    "Ramka danych `DataFrame` jest dwuwymiarową strukturą danych przypominającą dwuwymiarową macierz, w której każda kolumna może być innego typu. Ramkę tworzymy konstruktorem `pandas.DataFrame(dane,index=indeks,columns=kolumny)`, gdzie `index` to lista indeksów wierszy a `columns` to lista indeksów kolumn. Dopuszczalne typy danych to:\n",
    "\n",
    "- słownik szeregów lub słownik słowników - podanie indeksów jest nieobowiązkowe: klucze słownika ,,zewnętrznego'' będą indeksami kolumn `columns`, natomiast indeksy wierszy `index` będą sumą indeksów (kluczy) szeregów (słowników)."
   ]
  },
  {
   "cell_type": "code",
   "execution_count": 9,
   "metadata": {},
   "outputs": [
    {
     "name": "stdout",
     "output_type": "stream",
     "text": [
      "   szereg1  szereg2\n",
      "a      1.0      NaN\n",
      "b      2.0      2.0\n",
      "c      3.0      2.0\n",
      "d      NaN      1.0\n",
      "e      NaN      1.0\n"
     ]
    }
   ],
   "source": [
    "s1=pd.Series([1,2,3],index=['a','b','c'])\n",
    "s2=pd.Series([2,2,1,1],index=['b','c','d','e'])\n",
    "\n",
    "dic1={'szereg1':s1,'szereg2':s2}\n",
    "\n",
    "df=pd.DataFrame(dic1)\n",
    "print(df)"
   ]
  },
  {
   "cell_type": "markdown",
   "metadata": {},
   "source": [
    "Możemy samodzielnie nadać któryś z indeksów (lub obydwa): jeżeli podamy indeksy wierszy lub kolumn z poza istniejących indeksów (kluczy), to do ramki dołożone zostaną puste wiersze lub kolumny o zadanym przez nas indeksie, natomiast klucze (indeksy) nie wymienione przez nas zostaną pominięte."
   ]
  },
  {
   "cell_type": "code",
   "execution_count": 10,
   "metadata": {},
   "outputs": [
    {
     "name": "stdout",
     "output_type": "stream",
     "text": [
      "   szereg2 szereg3\n",
      "b      2.0     NaN\n",
      "c      2.0     NaN\n",
      "f      NaN     NaN\n"
     ]
    }
   ],
   "source": [
    "df1=pd.DataFrame(dic1,index=['b','c','f'],columns=['szereg2','szereg3'])\n",
    "print(df1)"
   ]
  },
  {
   "cell_type": "markdown",
   "metadata": {},
   "source": [
    "- słownik jednowymiarowych macierzy lub słownik list równych długości $n$ - podanie indeksu jest opcjonalne; lista {\\tt columns} zostanie utworzona z kluczy słownika natomiast lista `index` będzie liczbami całkowitymi od 0 do $n-1$. Jeżeli podajemy indeksy ręcznie, to lista `index` musi mieć długość równą $n$. Przy `columns` mamy dowolność."
   ]
  },
  {
   "cell_type": "code",
   "execution_count": 11,
   "metadata": {},
   "outputs": [
    {
     "name": "stdout",
     "output_type": "stream",
     "text": [
      "   list1 list2\n",
      "0      1     a\n",
      "1      2     b\n",
      "2      3     c\n",
      "3      4     d\n"
     ]
    }
   ],
   "source": [
    "A=[1,2,3,4]\n",
    "B=['a','b','c','d']\n",
    "\n",
    "dic2={'list1':A,'list2':B}\n",
    "\n",
    "df2=pd.DataFrame(dic2)\n",
    "print(df2)"
   ]
  },
  {
   "cell_type": "code",
   "execution_count": 12,
   "metadata": {},
   "outputs": [
    {
     "name": "stdout",
     "output_type": "stream",
     "text": [
      "     list1 list3\n",
      "i        1   NaN\n",
      "ii       2   NaN\n",
      "iii      3   NaN\n",
      "iv       4   NaN\n"
     ]
    }
   ],
   "source": [
    "df3=pd.DataFrame(dic2,columns=['list1','list3'],index=['i','ii','iii','iv'])\n",
    "print(df3)"
   ]
  },
  {
   "cell_type": "markdown",
   "metadata": {},
   "source": [
    "- lista słowników - podanie indeksu jest opcjonalne; lista `columns` będzie listą kluczy obydwu słowników a lista `index` będzie miała tyle elementów, ile mamy słowników w liście (kolejne liczby całkowite od 0). W przypadku bardziej złożonych słowników otrzymamy ramkę multiindeksowaną. Podobnie jak poprzednio możemy zadając `columns` ręcznie wybrać tylko niektóre pozycje słowników. Zadawana ręcznie lista `indeks` musi mieć tyle elementów, ile mamy słowników."
   ]
  },
  {
   "cell_type": "code",
   "execution_count": 13,
   "metadata": {},
   "outputs": [
    {
     "name": "stdout",
     "output_type": "stream",
     "text": [
      "       kot  pies     a     b\n",
      "0  Mruczek  Azor   NaN   NaN\n",
      "1      NaN   NaN  10.0  20.0\n"
     ]
    }
   ],
   "source": [
    "dic3={'kot':'Mruczek','pies':'Azor'}\n",
    "dic4={'a':10,'b':20}\n",
    "\n",
    "dane1=[dic3,dic4]\n",
    "\n",
    "df4=pd.DataFrame(dane1)\n",
    "print(df4)"
   ]
  },
  {
   "cell_type": "code",
   "execution_count": 14,
   "metadata": {},
   "outputs": [
    {
     "name": "stdout",
     "output_type": "stream",
     "text": [
      "      b      kot\n",
      "1   NaN  Mruczek\n",
      "2  20.0      NaN\n"
     ]
    }
   ],
   "source": [
    "df5=pd.DataFrame(dane1,index=[1,2],columns=['b','kot'])\n",
    "print(df5)"
   ]
  },
  {
   "cell_type": "markdown",
   "metadata": {},
   "source": [
    "- tablica rekordów lub tablica strukturyzowana - analogicznie do słownika tablic (jak zostanie czas na koniec semestru wrócimy do tablic strukturyzowanych),\n",
    "- pojedynczy szereg - lista `columns` ma długość 1, lista `index` jest równa liście `index` szeregu.\n",
    "- słownik indeksowany tuplami - sposób na ręczne, kontrolowane utworzenie ramki multiindeksowanej:"
   ]
  },
  {
   "cell_type": "code",
   "execution_count": 15,
   "metadata": {},
   "outputs": [
    {
     "name": "stdout",
     "output_type": "stream",
     "text": [
      "     a   \n",
      "     a  b\n",
      "A A  1  3\n",
      "  B  2  4\n"
     ]
    }
   ],
   "source": [
    "dic5={('A','A'):1,('A','B'):2}\n",
    "dic6={('A','A'):3,('A','B'):4}\n",
    "dic7={('a','a'):dic5,('a','b'):dic6}\n",
    "\n",
    "df6=pd.DataFrame(dic7)\n",
    "print(df6)"
   ]
  },
  {
   "cell_type": "markdown",
   "metadata": {},
   "source": [
    "Pełna składnia konstruktora: `pandas.DataFrame(data=None, index=None, columns=None, dtype=None, copy=False)`, gdzie:\n",
    "\n",
    "- `data` - dane (patrz wyżej),\n",
    "- `index` - indeksy wierszy,\n",
    "- `dtype` - string, typ danych biblioteki `numpy` lub `ExtensionDtype`; wymuszenie konkretnego typu danych wspólnego dla wszystkich kolumn ramki,\n",
    "- `copy=True/False` - jeżeli `True`, dane wejściowe zostaną przekazane przez kopię.\n",
    "\n",
    "\n",
    "Podstawowe operacje na kolumnach ramek (przykładowa ramka to `df`):\n",
    "\n",
    "- `df['nazwa']` - wywołanie konkretnej kolumny; `'nazwa'` musi być elementem listy `columns`,\n",
    "- `df['nazwa']=....` - zmiana istniejącej kolumny lub utworzenie (dołożenie) nowej kolumny o indeksie `'nazwa'`; nowa kolumna musi mieć wymiar zgodny z już istniejącymi, można również podać jedną wartość, która wypełni całą kolumnę,\n",
    "- `+,-,*,/` - działania na kolumnach (wierszach, pojedynczych elementach) o zgodnych typach danych realizowane miejsce w miejsce.\n",
    "\n",
    "\n",
    "Supportowane w najnowszej wersji Pythona metody dla typu `DataFrame`:\n",
    "\n",
    "- `df.T` - zamienia wiersze z kolumnami (transpozycja)\n",
    "- `df.empty` - `True/False`, zwraca `True`, jeżeli ramka jest pusta,\n",
    "- `df.at[indeks,kolumna]` - wywołanie pojedynczej danej z ramki; `indeks` musi byc z listy `index`, podobnie `kolumna` z listy `columns`,\n",
    "- `df.iat[n,m]` - zwraca element w `n`-tym wierszu i `m`-tej kolumnie (wywołanie po indeksach porządkowych),\n",
    "- `df.axes` - zwraca informację o osiach: indeksy i rodzaj danych,\n",
    "- `df.dtypes` - typy danych w poszczególnych kolumnach,\n",
    "- `df.ftypes` - informuje, czy dane w poszczególnych kolumnach są typu `dense`, czy `sparse`,\n",
    "- `df.index` - zwraca `index`\n",
    "- `df.columns` - zwraca `columns`\n",
    "- `df.loc[indeks]` - wywoływanie wiersza po indeksie z `index`,\n",
    "- `df.iloc[n]` - wywoływanie wiersza po liczbie porządkowej,\n",
    "- `df.ndim` - zwraca liczbę wymiarów,\n",
    "- `df.shape` - zwraca wymiar ramki danych (wiersze na kolumny),\n",
    "- `df.size` - zwraca liczbę elementów w ramce (łącznie z elementami `NaN`),\n",
    "- `df.values` - zwraca dane z ramki w postaci macierzy `ndarray`,\n",
    "- `df.style` - zwraca `Styler object` używany do reprezentacji ramki w HTML."
   ]
  },
  {
   "attachments": {},
   "cell_type": "markdown",
   "metadata": {},
   "source": [
    "## Zadanie 1.\n",
    "Utwórz trzy szeregi: `s1` zawierający liczby całkowite od 1 do 20 i `s2` zawierający liczby od 5 do 15 indeksowane automatycznie oraz `a2` zawierający liczby od 5 do 15 indeksowany kolejnymi literami alfabetu.  Na szeregach `s1` i `s2` wykonaj podstawowe działania i wyniki zapisz jako nowe szeregi `s3`, `s4`, `s5`, `s6}` o nazwach `name` zgodnych z działaniami, których są wynikiem. Sprawdź za pomocą odpowiedniej metody, czy nowe szeregi zawierają braki danych `NaN`.\n"
   ]
  },
  {
   "cell_type": "code",
   "execution_count": 23,
   "metadata": {},
   "outputs": [
    {
     "name": "stdout",
     "output_type": "stream",
     "text": [
      "czy nans w s3 True, s4  True, s5 True, s6 True\n"
     ]
    }
   ],
   "source": [
    "s1 = pd.Series(range(1,21))\n",
    "s2 = pd.Series(range(5,15))\n",
    "a2 = pd.Series(range(5,15),index=['a','b','c','d','e','f','g','h','i','j'])\n",
    "\n",
    "s3 = s1 + s2\n",
    "s3.name = 'dodawanie'\n",
    "\n",
    "s4 = s1 - s2\n",
    "s4.name = 'odejmowanie'\n",
    "\n",
    "s5 = s1 * s2\n",
    "s5.name = 'mnożenie'\n",
    "\n",
    "s6 = s1 / s2\n",
    "s6.name = 'dzielenie'\n",
    "\n",
    "print(f\"czy nans w s3 {s3.hasnans}, s4  {s4.hasnans}, s5 {s5.hasnans}, s6 {s6.hasnans}\")\n",
    "\n"
   ]
  },
  {
   "cell_type": "markdown",
   "metadata": {},
   "source": [
    "\n",
    "## Zadanie 2.\n",
    "Wypisz elementy szeregu `s1` o indeksach parzystych oraz elementy szeregu `a2}` indeksowane samogłoskami.\n"
   ]
  },
  {
   "cell_type": "code",
   "execution_count": 28,
   "metadata": {},
   "outputs": [
    {
     "name": "stdout",
     "output_type": "stream",
     "text": [
      "0      1\n",
      "2      3\n",
      "4      5\n",
      "6      7\n",
      "8      9\n",
      "10    11\n",
      "12    13\n",
      "14    15\n",
      "16    17\n",
      "18    19\n",
      "dtype: int64\n",
      "a     5\n",
      "e     9\n",
      "i    13\n",
      "dtype: int64\n"
     ]
    }
   ],
   "source": [
    "print(s1[::2])\n",
    "print(a2[['a','e','i']])\n"
   ]
  },
  {
   "cell_type": "markdown",
   "metadata": {},
   "source": [
    "\n",
    "## Zadanie 3.\n",
    "Ułóż słownik `dict1` zawierający jako klucze co najmniej 5 gatunków zwierząt domowych a jako dane - ich imiona. Ze słownika `dict1` stwórz szereg `sd1` zawierający jeszcze dwa dodatkowe indeksy oznaczające gatunki zwierząt. Wypisz szereg `sd1` a następnie uzupełnij go o brakujące imiona zwierząt.\n"
   ]
  },
  {
   "cell_type": "code",
   "execution_count": 30,
   "metadata": {},
   "outputs": [
    {
     "name": "stdout",
     "output_type": "stream",
     "text": [
      "pies        Bruno\n",
      "kot       Mruczek\n",
      "mysz       Kajtek\n",
      "dzik         Knur\n",
      "kon        Kacper\n",
      "chomik        NaN\n",
      "żółw          NaN\n",
      "dtype: object\n",
      "pies          Bruno\n",
      "kot         Mruczek\n",
      "mysz         Kajtek\n",
      "dzik           Knur\n",
      "kon          Kacper\n",
      "chomik    Krzysztof\n",
      "żółw         Marian\n",
      "dtype: object\n"
     ]
    }
   ],
   "source": [
    "dict1={'pies':'Bruno','kot':'Mruczek','mysz':'Kajtek','dzik':'Knur','kon':'Kacper'}\n",
    "sd1=pd.Series(dict1,index=['pies','kot','mysz','dzik','kon','chomik','żółw'])\n",
    "print(sd1)\n",
    "sd1['chomik']='Krzysztof'\n",
    "sd1['żółw']='Marian'\n",
    "print(sd1)"
   ]
  },
  {
   "cell_type": "markdown",
   "metadata": {},
   "source": [
    "\n",
    "## Zadanie 4.\n",
    "Stwórz ramkę danych zawierającą szeregi `s1, s2, s3, s4` i `s5`. Zrzuć do macierzy pierwszy i trzeci wiersz. Dołóż do ramki kolumnę będącą iloczynem dwóch pierwszych kolumn oraz dodatkowy wiersz będący sumą trzech pierwszych wierszy.\n"
   ]
  },
  {
   "cell_type": "code",
   "execution_count": 112,
   "metadata": {},
   "outputs": [
    {
     "data": {
      "text/html": [
       "<div>\n",
       "<style scoped>\n",
       "    .dataframe tbody tr th:only-of-type {\n",
       "        vertical-align: middle;\n",
       "    }\n",
       "\n",
       "    .dataframe tbody tr th {\n",
       "        vertical-align: top;\n",
       "    }\n",
       "\n",
       "    .dataframe thead th {\n",
       "        text-align: right;\n",
       "    }\n",
       "</style>\n",
       "<table border=\"1\" class=\"dataframe\">\n",
       "  <thead>\n",
       "    <tr style=\"text-align: right;\">\n",
       "      <th></th>\n",
       "      <th>Unnamed 0</th>\n",
       "      <th>Unnamed 1</th>\n",
       "      <th>dodawanie</th>\n",
       "      <th>odejmowanie</th>\n",
       "      <th>mnożenie</th>\n",
       "      <th>iloczyn</th>\n",
       "    </tr>\n",
       "  </thead>\n",
       "  <tbody>\n",
       "    <tr>\n",
       "      <th>0</th>\n",
       "      <td>1.0</td>\n",
       "      <td>5.0</td>\n",
       "      <td>6.0</td>\n",
       "      <td>-4.0</td>\n",
       "      <td>5.0</td>\n",
       "      <td>5.0</td>\n",
       "    </tr>\n",
       "    <tr>\n",
       "      <th>1</th>\n",
       "      <td>2.0</td>\n",
       "      <td>6.0</td>\n",
       "      <td>8.0</td>\n",
       "      <td>-4.0</td>\n",
       "      <td>12.0</td>\n",
       "      <td>12.0</td>\n",
       "    </tr>\n",
       "    <tr>\n",
       "      <th>2</th>\n",
       "      <td>3.0</td>\n",
       "      <td>7.0</td>\n",
       "      <td>10.0</td>\n",
       "      <td>-4.0</td>\n",
       "      <td>21.0</td>\n",
       "      <td>21.0</td>\n",
       "    </tr>\n",
       "    <tr>\n",
       "      <th>3</th>\n",
       "      <td>4.0</td>\n",
       "      <td>8.0</td>\n",
       "      <td>12.0</td>\n",
       "      <td>-4.0</td>\n",
       "      <td>32.0</td>\n",
       "      <td>32.0</td>\n",
       "    </tr>\n",
       "    <tr>\n",
       "      <th>4</th>\n",
       "      <td>5.0</td>\n",
       "      <td>9.0</td>\n",
       "      <td>14.0</td>\n",
       "      <td>-4.0</td>\n",
       "      <td>45.0</td>\n",
       "      <td>45.0</td>\n",
       "    </tr>\n",
       "    <tr>\n",
       "      <th>5</th>\n",
       "      <td>6.0</td>\n",
       "      <td>10.0</td>\n",
       "      <td>16.0</td>\n",
       "      <td>-4.0</td>\n",
       "      <td>60.0</td>\n",
       "      <td>60.0</td>\n",
       "    </tr>\n",
       "    <tr>\n",
       "      <th>6</th>\n",
       "      <td>7.0</td>\n",
       "      <td>11.0</td>\n",
       "      <td>18.0</td>\n",
       "      <td>-4.0</td>\n",
       "      <td>77.0</td>\n",
       "      <td>77.0</td>\n",
       "    </tr>\n",
       "    <tr>\n",
       "      <th>7</th>\n",
       "      <td>8.0</td>\n",
       "      <td>12.0</td>\n",
       "      <td>20.0</td>\n",
       "      <td>-4.0</td>\n",
       "      <td>96.0</td>\n",
       "      <td>96.0</td>\n",
       "    </tr>\n",
       "    <tr>\n",
       "      <th>8</th>\n",
       "      <td>9.0</td>\n",
       "      <td>13.0</td>\n",
       "      <td>22.0</td>\n",
       "      <td>-4.0</td>\n",
       "      <td>117.0</td>\n",
       "      <td>117.0</td>\n",
       "    </tr>\n",
       "    <tr>\n",
       "      <th>9</th>\n",
       "      <td>10.0</td>\n",
       "      <td>14.0</td>\n",
       "      <td>24.0</td>\n",
       "      <td>-4.0</td>\n",
       "      <td>140.0</td>\n",
       "      <td>140.0</td>\n",
       "    </tr>\n",
       "    <tr>\n",
       "      <th>10</th>\n",
       "      <td>11.0</td>\n",
       "      <td>NaN</td>\n",
       "      <td>NaN</td>\n",
       "      <td>NaN</td>\n",
       "      <td>NaN</td>\n",
       "      <td>NaN</td>\n",
       "    </tr>\n",
       "    <tr>\n",
       "      <th>11</th>\n",
       "      <td>12.0</td>\n",
       "      <td>NaN</td>\n",
       "      <td>NaN</td>\n",
       "      <td>NaN</td>\n",
       "      <td>NaN</td>\n",
       "      <td>NaN</td>\n",
       "    </tr>\n",
       "    <tr>\n",
       "      <th>12</th>\n",
       "      <td>13.0</td>\n",
       "      <td>NaN</td>\n",
       "      <td>NaN</td>\n",
       "      <td>NaN</td>\n",
       "      <td>NaN</td>\n",
       "      <td>NaN</td>\n",
       "    </tr>\n",
       "    <tr>\n",
       "      <th>13</th>\n",
       "      <td>14.0</td>\n",
       "      <td>NaN</td>\n",
       "      <td>NaN</td>\n",
       "      <td>NaN</td>\n",
       "      <td>NaN</td>\n",
       "      <td>NaN</td>\n",
       "    </tr>\n",
       "    <tr>\n",
       "      <th>14</th>\n",
       "      <td>15.0</td>\n",
       "      <td>NaN</td>\n",
       "      <td>NaN</td>\n",
       "      <td>NaN</td>\n",
       "      <td>NaN</td>\n",
       "      <td>NaN</td>\n",
       "    </tr>\n",
       "    <tr>\n",
       "      <th>15</th>\n",
       "      <td>16.0</td>\n",
       "      <td>NaN</td>\n",
       "      <td>NaN</td>\n",
       "      <td>NaN</td>\n",
       "      <td>NaN</td>\n",
       "      <td>NaN</td>\n",
       "    </tr>\n",
       "    <tr>\n",
       "      <th>16</th>\n",
       "      <td>17.0</td>\n",
       "      <td>NaN</td>\n",
       "      <td>NaN</td>\n",
       "      <td>NaN</td>\n",
       "      <td>NaN</td>\n",
       "      <td>NaN</td>\n",
       "    </tr>\n",
       "    <tr>\n",
       "      <th>17</th>\n",
       "      <td>18.0</td>\n",
       "      <td>NaN</td>\n",
       "      <td>NaN</td>\n",
       "      <td>NaN</td>\n",
       "      <td>NaN</td>\n",
       "      <td>NaN</td>\n",
       "    </tr>\n",
       "    <tr>\n",
       "      <th>18</th>\n",
       "      <td>19.0</td>\n",
       "      <td>NaN</td>\n",
       "      <td>NaN</td>\n",
       "      <td>NaN</td>\n",
       "      <td>NaN</td>\n",
       "      <td>NaN</td>\n",
       "    </tr>\n",
       "    <tr>\n",
       "      <th>19</th>\n",
       "      <td>20.0</td>\n",
       "      <td>NaN</td>\n",
       "      <td>NaN</td>\n",
       "      <td>NaN</td>\n",
       "      <td>NaN</td>\n",
       "      <td>NaN</td>\n",
       "    </tr>\n",
       "    <tr>\n",
       "      <th>0</th>\n",
       "      <td>6.0</td>\n",
       "      <td>18.0</td>\n",
       "      <td>24.0</td>\n",
       "      <td>-12.0</td>\n",
       "      <td>38.0</td>\n",
       "      <td>38.0</td>\n",
       "    </tr>\n",
       "  </tbody>\n",
       "</table>\n",
       "</div>"
      ],
      "text/plain": [
       "    Unnamed 0  Unnamed 1  dodawanie  odejmowanie  mnożenie  iloczyn\n",
       "0         1.0        5.0        6.0         -4.0       5.0      5.0\n",
       "1         2.0        6.0        8.0         -4.0      12.0     12.0\n",
       "2         3.0        7.0       10.0         -4.0      21.0     21.0\n",
       "3         4.0        8.0       12.0         -4.0      32.0     32.0\n",
       "4         5.0        9.0       14.0         -4.0      45.0     45.0\n",
       "5         6.0       10.0       16.0         -4.0      60.0     60.0\n",
       "6         7.0       11.0       18.0         -4.0      77.0     77.0\n",
       "7         8.0       12.0       20.0         -4.0      96.0     96.0\n",
       "8         9.0       13.0       22.0         -4.0     117.0    117.0\n",
       "9        10.0       14.0       24.0         -4.0     140.0    140.0\n",
       "10       11.0        NaN        NaN          NaN       NaN      NaN\n",
       "11       12.0        NaN        NaN          NaN       NaN      NaN\n",
       "12       13.0        NaN        NaN          NaN       NaN      NaN\n",
       "13       14.0        NaN        NaN          NaN       NaN      NaN\n",
       "14       15.0        NaN        NaN          NaN       NaN      NaN\n",
       "15       16.0        NaN        NaN          NaN       NaN      NaN\n",
       "16       17.0        NaN        NaN          NaN       NaN      NaN\n",
       "17       18.0        NaN        NaN          NaN       NaN      NaN\n",
       "18       19.0        NaN        NaN          NaN       NaN      NaN\n",
       "19       20.0        NaN        NaN          NaN       NaN      NaN\n",
       "0         6.0       18.0       24.0        -12.0      38.0     38.0"
      ]
     },
     "execution_count": 112,
     "metadata": {},
     "output_type": "execute_result"
    }
   ],
   "source": [
    "df=pd.DataFrame(data=[s1,s2,s3,s4,s5]).T\n",
    "macierz=df.iloc[[1,3]].values\n",
    "df['iloczyn']=df[df.columns[0]]*df[df.columns[1]]\n",
    "\n",
    "pd.concat([df,pd.DataFrame(df.iloc[[0,1,2]].sum(axis=0)).T])\n",
    "\n"
   ]
  },
  {
   "cell_type": "markdown",
   "metadata": {},
   "source": [
    "\n",
    "## Zadanie 5.\n",
    "Stwórz dowolną metodą ramkę\n",
    "```\n",
    "            F          M\n",
    "A       Anna    Andrzej\n",
    "K  Katarzyna  Krzysztof\n",
    "M      Maria     Marcin\n",
    "U    Urszula        NaN\n",
    "```\n",
    "\n",
    "Wypisz pierwszą kolumnę. Wypisz ostatni wiersz. W miejsce {\\tt NaN} wpisz do ramki imię męskie na U. Dodaj do ramki kolejny wiersz z imionami na T.\n"
   ]
  },
  {
   "cell_type": "code",
   "execution_count": 82,
   "metadata": {},
   "outputs": [
    {
     "name": "stdout",
     "output_type": "stream",
     "text": [
      "           F          M\n",
      "A       Anna    Andrzej\n",
      "K  Katarzyna  Krzysztof\n",
      "M      Maria     Marcin\n",
      "U    Urszula       None\n"
     ]
    },
    {
     "data": {
      "text/html": [
       "<div>\n",
       "<style scoped>\n",
       "    .dataframe tbody tr th:only-of-type {\n",
       "        vertical-align: middle;\n",
       "    }\n",
       "\n",
       "    .dataframe tbody tr th {\n",
       "        vertical-align: top;\n",
       "    }\n",
       "\n",
       "    .dataframe thead th {\n",
       "        text-align: right;\n",
       "    }\n",
       "</style>\n",
       "<table border=\"1\" class=\"dataframe\">\n",
       "  <thead>\n",
       "    <tr style=\"text-align: right;\">\n",
       "      <th></th>\n",
       "      <th>F</th>\n",
       "      <th>M</th>\n",
       "    </tr>\n",
       "  </thead>\n",
       "  <tbody>\n",
       "    <tr>\n",
       "      <th>A</th>\n",
       "      <td>Anna</td>\n",
       "      <td>Andrzej</td>\n",
       "    </tr>\n",
       "    <tr>\n",
       "      <th>K</th>\n",
       "      <td>Katarzyna</td>\n",
       "      <td>Krzysztof</td>\n",
       "    </tr>\n",
       "    <tr>\n",
       "      <th>M</th>\n",
       "      <td>Maria</td>\n",
       "      <td>Marcin</td>\n",
       "    </tr>\n",
       "    <tr>\n",
       "      <th>U</th>\n",
       "      <td>Urszula</td>\n",
       "      <td>Ursus</td>\n",
       "    </tr>\n",
       "  </tbody>\n",
       "</table>\n",
       "</div>"
      ],
      "text/plain": [
       "           F          M\n",
       "A       Anna    Andrzej\n",
       "K  Katarzyna  Krzysztof\n",
       "M      Maria     Marcin\n",
       "U    Urszula      Ursus"
      ]
     },
     "execution_count": 82,
     "metadata": {},
     "output_type": "execute_result"
    }
   ],
   "source": [
    "data=[['Anna','Andrzej'],['Katarzyna','Krzysztof'],['Maria','Marcin'],['Urszula']]\n",
    "df=pd.DataFrame(data,columns=['F','M'],index=['A','K','M','U'])\n",
    "print(df)\n",
    "df.at['U','M']='Ursus'\n",
    "df\n"
   ]
  },
  {
   "cell_type": "markdown",
   "metadata": {},
   "source": [
    "\n",
    "## Zadanie 6.\n",
    "Stwórz dowolną metodą ramkę\n",
    "```\n",
    "            plec    \n",
    "              K   M\n",
    "wiek 0-5     15  17\n",
    "     10-15   14  14\n",
    "     5-10    14  13\n",
    "```\n",
    "Sprawdź jej liczbę wymiarów i liczbę wierszy i kolumn (kształt). Wypisz indeksy wierszy i kolumn. Wypisz dwukrotnie pierwszy wiersz: raz za pomocą indeksów, drugi raz za pomocą liczb porządkowych. Zmień w ramce liczbę 13 na 15. Zrzuć pierwszą kolumnę do macierzy."
   ]
  },
  {
   "cell_type": "code",
   "execution_count": 108,
   "metadata": {},
   "outputs": [
    {
     "name": "stdout",
     "output_type": "stream",
     "text": [
      "wymiary (3, 2), wierszy 3, kolumn 2\n",
      "indeksy: MultiIndex([('wiek',   '0-5'),\n",
      "            ('wiek', '10-15'),\n",
      "            ('wiek',  '5-10')],\n",
      "           )\n",
      "kolumny: MultiIndex([('plec', 'K'),\n",
      "            ('plec', 'M')],\n",
      "           )\n",
      "za pomocą indeksów \n",
      "          plec    \n",
      "            K   M\n",
      "wiek 0-5   15  17\n",
      "za pomocą liczb porządkowych \n",
      "          plec    \n",
      "            K   M\n",
      "wiek 0-5   15  17\n"
     ]
    }
   ],
   "source": [
    "K={('wiek','0-5'):15,('wiek','10-15'):14,('wiek','5-10'):14}\n",
    "M={('wiek','0-5'):17,('wiek','10-15'):14,('wiek','5-10'):13}\n",
    "plec={('plec','K'):K,('plec','M'):M}\n",
    "df=pd.DataFrame(plec)\n",
    "\n",
    "print(f\"wymiary {df.shape}, wierszy {df.shape[0]}, kolumn {df.shape[1]}\")\n",
    "print(f\"indeksy: {df.index}\")\n",
    "print(f\"kolumny: {df.columns}\")\n",
    "print(f\"za pomocą indeksów \\n {df.loc[[('wiek','0-5')]]}\")\n",
    "print(f\"za pomocą liczb porządkowych \\n {df.iloc[[0]]}\")\n",
    "\n",
    "df.replace(13,15,inplace=True)\n",
    "\n",
    "macierz=df[('plec','K')].values"
   ]
  }
 ],
 "metadata": {
  "kernelspec": {
   "display_name": "Python 3",
   "language": "python",
   "name": "python3"
  },
  "language_info": {
   "codemirror_mode": {
    "name": "ipython",
    "version": 3
   },
   "file_extension": ".py",
   "mimetype": "text/x-python",
   "name": "python",
   "nbconvert_exporter": "python",
   "pygments_lexer": "ipython3",
   "version": "3.10.9"
  }
 },
 "nbformat": 4,
 "nbformat_minor": 4
}
